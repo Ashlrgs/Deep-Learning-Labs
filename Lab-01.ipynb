{
 "cells": [
  {
   "cell_type": "markdown",
   "id": "3dbe03b6",
   "metadata": {},
   "source": [
    "### Deep Learning Practical 1\n",
    "#### Name :- Ashlesha Bhandarkar\n",
    "#### Roll No. :-03\n",
    "\n",
    "\n",
    "\n",
    "\n",
    "\n",
    "Practical No. 1: Implementation of Single Perceptron and Creation of Logic Gates\n",
    "Tasks:\n",
    "1.\tSingle Perceptron Implementation:\n",
    "o\tWrite a Python script to implement a single perceptron.\n",
    "o\tInclude functions for initializing weights and bias, calculating the weighted sum, applying activation function (e.g., step function)\n",
    "o\tTest the perceptron on a simple binary classification problem.\n",
    "2.\tCreation of Logic Gates:\n",
    "o\tUse the single perceptron to create logic gates (AND, OR, NOT).\n",
    "o\tDefine the input patterns for each gate and train the perceptron to produce the correct output.\n",
    "o\tEvaluate the trained perceptron on different inputs to verify its behavior.\n",
    "\n",
    "\n",
    "\n",
    "1A.Implement Perceptron learning algorithm for classification\n",
    "of following points {P0(-1,-1,-1) , P1(-1,-1,1) , P2(-1,1,-1)\n",
    ", P3(-1,1,1) ,P4(1,-1,-1) , P5(1,-1,1) , P6(1,1,-1)\n",
    ", P7(1,1,1) } in to two classes:\n",
    "\n",
    "\n",
    "C1={P7 (1,1,1)}\n",
    "\n",
    "\n",
    "C2={P0(-1,-1,-1)\n",
    ", P1(-1,-1,1) , P2(-1,1,-1) , P3(-1,1,1) ,P4(1,-1,-1)\n",
    ", P5(1,-1,1) , P6(1,1,-1) }\n",
    "\n",
    "\n",
    "\n",
    "1B.Write a python program to find the number of\n",
    "linearly separable problems out of total binary classification problems on {P0(-1,-1,-1)\n",
    ", P1(-1,-1,1) , P2(-1,1,-1) , P3(-1,1,1) ,P4(1,-1,-1)\n",
    ", P5(1,-1,1) , P6(1,1,-1) , P7(1,1,1) }."
   ]
  },
  {
   "cell_type": "code",
   "execution_count": null,
   "id": "c5506093",
   "metadata": {},
   "outputs": [],
   "source": [
    "## task 1"
   ]
  },
  {
   "cell_type": "code",
   "execution_count": 5,
   "id": "fec6e9a2",
   "metadata": {},
   "outputs": [],
   "source": [
    "import numpy as np"
   ]
  },
  {
   "cell_type": "code",
   "execution_count": 6,
   "id": "b802454a",
   "metadata": {},
   "outputs": [],
   "source": [
    "\n",
    "\n",
    "class Perceptron:\n",
    "    def __init__(self, num_inputs):\n",
    "        self.weights = np.random.rand(num_inputs)\n",
    "        self.bias = np.random.rand()\n",
    "\n",
    "    def activation(self, x):\n",
    "        # Step function\n",
    "        return 1 if x >= 0 else 0\n",
    "\n",
    "    def weighted_sum(self, inputs):\n",
    "        return np.dot(inputs, self.weights) + self.bias\n",
    "\n",
    "    def predict(self, inputs):\n",
    "        return self.activation(self.weighted_sum(inputs))\n",
    "\n",
    "    def train(self, inputs, targets, learning_rate=0.1, epochs=100):\n",
    "        for _ in range(epochs):\n",
    "            for input_row, target in zip(inputs, targets):\n",
    "                prediction = self.predict(input_row)\n",
    "                error = target - prediction\n",
    "                self.weights += learning_rate * error * input_row\n",
    "                self.bias += learning_rate * error"
   ]
  },
  {
   "cell_type": "code",
   "execution_count": 7,
   "id": "f9d11a31",
   "metadata": {},
   "outputs": [],
   "source": [
    "points = np.array([[-1, -1, -1], [-1, -1, 1], [-1, 1, -1], [-1, 1, 1],\n",
    "                   [1, -1, -1], [1, -1, 1], [1, 1, -1], [1, 1, 1]])\n",
    "classes = np.array([0, 0, 0, 0, 1, 1, 1, 1])"
   ]
  },
  {
   "cell_type": "code",
   "execution_count": 8,
   "id": "6deb783d",
   "metadata": {},
   "outputs": [],
   "source": [
    "perceptron = Perceptron(num_inputs=3)"
   ]
  },
  {
   "cell_type": "code",
   "execution_count": 9,
   "id": "b029b005",
   "metadata": {},
   "outputs": [],
   "source": [
    "perceptron.train(points, classes)"
   ]
  },
  {
   "cell_type": "code",
   "execution_count": 10,
   "id": "db0328db",
   "metadata": {},
   "outputs": [
    {
     "name": "stdout",
     "output_type": "stream",
     "text": [
      "Testing the trained perceptron for binary classification:\n",
      "Input: [-1 -1 -1], Predicted Class: 0\n",
      "Input: [-1 -1  1], Predicted Class: 0\n",
      "Input: [-1  1 -1], Predicted Class: 0\n",
      "Input: [-1  1  1], Predicted Class: 0\n",
      "Input: [ 1 -1 -1], Predicted Class: 1\n",
      "Input: [ 1 -1  1], Predicted Class: 1\n",
      "Input: [ 1  1 -1], Predicted Class: 1\n",
      "Input: [1 1 1], Predicted Class: 1\n"
     ]
    }
   ],
   "source": [
    "print(\"Testing the trained perceptron for binary classification:\")\n",
    "for point in points:\n",
    "    print(f\"Input: {point}, Predicted Class: {perceptron.predict(point)}\")"
   ]
  },
  {
   "cell_type": "code",
   "execution_count": null,
   "id": "b7640e0e",
   "metadata": {},
   "outputs": [],
   "source": [
    "## task 2"
   ]
  },
  {
   "cell_type": "code",
   "execution_count": 11,
   "id": "2140ead4",
   "metadata": {},
   "outputs": [],
   "source": [
    "inputs_and = np.array([[0, 0], [0, 1], [1, 0], [1, 1]])\n",
    "inputs_or = inputs_and\n",
    "inputs_not = np.array([[0], [1]])"
   ]
  },
  {
   "cell_type": "code",
   "execution_count": 16,
   "id": "2e3d3d55",
   "metadata": {},
   "outputs": [],
   "source": [
    "target_and = np.array([0, 0, 0, 1])\n",
    "target_or = np.array([0, 1, 1, 1])\n",
    "target_not = np.array([1, 0])"
   ]
  },
  {
   "cell_type": "code",
   "execution_count": 17,
   "id": "ede5957d",
   "metadata": {},
   "outputs": [],
   "source": [
    "perceptron_and = Perceptron(num_inputs=2)\n",
    "perceptron_or = Perceptron(num_inputs=2)\n",
    "perceptron_not = Perceptron(num_inputs=1)"
   ]
  },
  {
   "cell_type": "code",
   "execution_count": 18,
   "id": "2fa02761",
   "metadata": {},
   "outputs": [],
   "source": [
    "perceptron_and.train(inputs_and, target_and)\n",
    "perceptron_or.train(inputs_or, target_or)\n",
    "perceptron_not.train(inputs_not, target_not)"
   ]
  },
  {
   "cell_type": "code",
   "execution_count": 20,
   "id": "67ecf25f",
   "metadata": {},
   "outputs": [
    {
     "name": "stdout",
     "output_type": "stream",
     "text": [
      "\n",
      "Testing the trained perceptrons for logic gates:\n",
      "AND Gate:\n",
      "Input: [0 0], Output: 0\n",
      "Input: [0 1], Output: 0\n",
      "Input: [1 0], Output: 0\n",
      "Input: [1 1], Output: 1\n"
     ]
    }
   ],
   "source": [
    "print(\"\\nTesting the trained perceptrons for logic gates:\")\n",
    "print(\"AND Gate:\")\n",
    "for input_row in inputs_and:\n",
    "    print(f\"Input: {input_row}, Output: {perceptron_and.predict(input_row)}\")"
   ]
  },
  {
   "cell_type": "code",
   "execution_count": 21,
   "id": "ecb55903",
   "metadata": {},
   "outputs": [
    {
     "name": "stdout",
     "output_type": "stream",
     "text": [
      "\n",
      "OR Gate:\n",
      "Input: [0 0], Output: 0\n",
      "Input: [0 1], Output: 1\n",
      "Input: [1 0], Output: 1\n",
      "Input: [1 1], Output: 1\n"
     ]
    }
   ],
   "source": [
    "print(\"\\nOR Gate:\")\n",
    "for input_row in inputs_or:\n",
    "    print(f\"Input: {input_row}, Output: {perceptron_or.predict(input_row)}\")"
   ]
  },
  {
   "cell_type": "code",
   "execution_count": 22,
   "id": "d5d31207",
   "metadata": {},
   "outputs": [
    {
     "name": "stdout",
     "output_type": "stream",
     "text": [
      "\n",
      "NOT Gate:\n",
      "Input: [0], Output: 1\n",
      "Input: [1], Output: 0\n"
     ]
    }
   ],
   "source": [
    "print(\"\\nNOT Gate:\")\n",
    "for input_row in inputs_not:\n",
    "    print(f\"Input: {input_row}, Output: {perceptron_not.predict(input_row)}\")"
   ]
  },
  {
   "cell_type": "code",
   "execution_count": null,
   "id": "2e2ca843",
   "metadata": {},
   "outputs": [],
   "source": []
  },
  {
   "cell_type": "code",
   "execution_count": null,
   "id": "872caff5",
   "metadata": {},
   "outputs": [],
   "source": []
  },
  {
   "cell_type": "code",
   "execution_count": null,
   "id": "91ac94a9",
   "metadata": {},
   "outputs": [],
   "source": []
  },
  {
   "cell_type": "code",
   "execution_count": null,
   "id": "cd6e2267",
   "metadata": {},
   "outputs": [],
   "source": []
  },
  {
   "cell_type": "code",
   "execution_count": null,
   "id": "0ae1522c",
   "metadata": {},
   "outputs": [],
   "source": []
  },
  {
   "cell_type": "code",
   "execution_count": null,
   "id": "0033924d",
   "metadata": {},
   "outputs": [],
   "source": []
  },
  {
   "cell_type": "code",
   "execution_count": null,
   "id": "5b602761",
   "metadata": {},
   "outputs": [],
   "source": []
  },
  {
   "cell_type": "code",
   "execution_count": null,
   "id": "23e31286",
   "metadata": {},
   "outputs": [],
   "source": []
  },
  {
   "cell_type": "code",
   "execution_count": null,
   "id": "84525220",
   "metadata": {},
   "outputs": [],
   "source": []
  },
  {
   "cell_type": "code",
   "execution_count": null,
   "id": "a8c11881",
   "metadata": {},
   "outputs": [],
   "source": []
  },
  {
   "cell_type": "code",
   "execution_count": null,
   "id": "021e142d",
   "metadata": {},
   "outputs": [],
   "source": []
  },
  {
   "cell_type": "code",
   "execution_count": null,
   "id": "ac32803b",
   "metadata": {},
   "outputs": [],
   "source": []
  },
  {
   "cell_type": "code",
   "execution_count": null,
   "id": "87e48f6f",
   "metadata": {},
   "outputs": [],
   "source": []
  },
  {
   "cell_type": "code",
   "execution_count": null,
   "id": "b0f26db7",
   "metadata": {},
   "outputs": [],
   "source": []
  },
  {
   "cell_type": "code",
   "execution_count": null,
   "id": "58ad3e76",
   "metadata": {},
   "outputs": [],
   "source": []
  },
  {
   "cell_type": "code",
   "execution_count": null,
   "id": "9f796ac6",
   "metadata": {},
   "outputs": [],
   "source": []
  },
  {
   "cell_type": "code",
   "execution_count": null,
   "id": "92bdf17a",
   "metadata": {},
   "outputs": [],
   "source": []
  },
  {
   "cell_type": "code",
   "execution_count": null,
   "id": "44af994b",
   "metadata": {},
   "outputs": [],
   "source": []
  },
  {
   "cell_type": "code",
   "execution_count": null,
   "id": "ecc8723b",
   "metadata": {},
   "outputs": [],
   "source": []
  },
  {
   "cell_type": "code",
   "execution_count": null,
   "id": "e6ef95a8",
   "metadata": {},
   "outputs": [],
   "source": []
  },
  {
   "cell_type": "code",
   "execution_count": null,
   "id": "b15634e8",
   "metadata": {},
   "outputs": [],
   "source": []
  },
  {
   "cell_type": "code",
   "execution_count": null,
   "id": "11a29591",
   "metadata": {},
   "outputs": [],
   "source": []
  },
  {
   "cell_type": "code",
   "execution_count": null,
   "id": "3fc74cc2",
   "metadata": {},
   "outputs": [],
   "source": []
  },
  {
   "cell_type": "code",
   "execution_count": null,
   "id": "6344fa97",
   "metadata": {},
   "outputs": [],
   "source": []
  },
  {
   "cell_type": "code",
   "execution_count": null,
   "id": "159e89e6",
   "metadata": {},
   "outputs": [],
   "source": []
  },
  {
   "cell_type": "code",
   "execution_count": null,
   "id": "daf795b9",
   "metadata": {},
   "outputs": [],
   "source": []
  },
  {
   "cell_type": "code",
   "execution_count": null,
   "id": "3b3051ba",
   "metadata": {},
   "outputs": [],
   "source": []
  },
  {
   "cell_type": "code",
   "execution_count": null,
   "id": "a08d0e43",
   "metadata": {},
   "outputs": [],
   "source": []
  },
  {
   "cell_type": "code",
   "execution_count": null,
   "id": "616f5ead",
   "metadata": {},
   "outputs": [],
   "source": []
  },
  {
   "cell_type": "code",
   "execution_count": null,
   "id": "16c5333e",
   "metadata": {},
   "outputs": [],
   "source": []
  },
  {
   "cell_type": "code",
   "execution_count": null,
   "id": "09ea5d5c",
   "metadata": {},
   "outputs": [],
   "source": []
  },
  {
   "cell_type": "code",
   "execution_count": null,
   "id": "ad130882",
   "metadata": {},
   "outputs": [],
   "source": []
  },
  {
   "cell_type": "code",
   "execution_count": null,
   "id": "3f84a491",
   "metadata": {},
   "outputs": [],
   "source": []
  },
  {
   "cell_type": "code",
   "execution_count": null,
   "id": "5f6abd7b",
   "metadata": {},
   "outputs": [],
   "source": []
  },
  {
   "cell_type": "code",
   "execution_count": null,
   "id": "7341a36c",
   "metadata": {},
   "outputs": [],
   "source": []
  },
  {
   "cell_type": "code",
   "execution_count": null,
   "id": "f6a54594",
   "metadata": {},
   "outputs": [],
   "source": []
  },
  {
   "cell_type": "code",
   "execution_count": null,
   "id": "1f24d852",
   "metadata": {},
   "outputs": [],
   "source": []
  },
  {
   "cell_type": "code",
   "execution_count": null,
   "id": "428cc7bd",
   "metadata": {},
   "outputs": [],
   "source": []
  }
 ],
 "metadata": {
  "kernelspec": {
   "display_name": "Python 3 (ipykernel)",
   "language": "python",
   "name": "python3"
  },
  "language_info": {
   "codemirror_mode": {
    "name": "ipython",
    "version": 3
   },
   "file_extension": ".py",
   "mimetype": "text/x-python",
   "name": "python",
   "nbconvert_exporter": "python",
   "pygments_lexer": "ipython3",
   "version": "3.11.5"
  }
 },
 "nbformat": 4,
 "nbformat_minor": 5
}
