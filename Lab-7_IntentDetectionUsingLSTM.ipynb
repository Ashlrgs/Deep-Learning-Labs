{
  "nbformat": 4,
  "nbformat_minor": 0,
  "metadata": {
    "colab": {
      "provenance": []
    },
    "kernelspec": {
      "name": "python3",
      "display_name": "Python 3"
    },
    "language_info": {
      "name": "python"
    }
  },
  "cells": [
    {
      "cell_type": "markdown",
      "source": [
        "Name : Ashlesha Bhandarkar\n",
        "\n",
        "Roll No. : 03"
      ],
      "metadata": {
        "id": "BL9SHQxGpWzM"
      }
    },
    {
      "cell_type": "markdown",
      "source": [
        "#### Aim : Perform the intend detection using LSTM on Bank Dataset and upload Notebook file. With rollno_name:\n",
        "#### The Bank intend classes are:\n",
        "#### 1. User Information related issue\n",
        "#### 2. Debit/Credit card related issues\n",
        "#### 3. Transaction related issues"
      ],
      "metadata": {
        "id": "W0NhExYflwP4"
      }
    },
    {
      "cell_type": "code",
      "execution_count": 1,
      "metadata": {
        "colab": {
          "base_uri": "https://localhost:8080/"
        },
        "id": "4zrGhQCMlUxp",
        "outputId": "29063090-188d-40a3-893c-7c54fe6362b0"
      },
      "outputs": [
        {
          "output_type": "stream",
          "name": "stderr",
          "text": [
            "[nltk_data] Downloading package punkt to /root/nltk_data...\n",
            "[nltk_data]   Unzipping tokenizers/punkt.zip.\n",
            "[nltk_data] Downloading package stopwords to /root/nltk_data...\n",
            "[nltk_data]   Unzipping corpora/stopwords.zip.\n"
          ]
        },
        {
          "output_type": "execute_result",
          "data": {
            "text/plain": [
              "True"
            ]
          },
          "metadata": {},
          "execution_count": 1
        }
      ],
      "source": [
        "import numpy as np\n",
        "import pandas as pd\n",
        "import nltk\n",
        "\n",
        "from sklearn.preprocessing import OneHotEncoder as oneHot\n",
        "from nltk.corpus import stopwords\n",
        "from nltk import word_tokenize\n",
        "from string import punctuation\n",
        "from nltk.stem import PorterStemmer\n",
        "from tensorflow.keras.preprocessing.text import Tokenizer\n",
        "from tensorflow.keras.preprocessing.sequence import pad_sequences\n",
        "from tensorflow.keras.layers import Dense, LSTM\n",
        "from tensorflow.keras.layers import BatchNormalization, Dropout, Input\n",
        "from tensorflow.keras.optimizers import Adam\n",
        "from tensorflow.keras.losses import CategoricalCrossentropy as cce\n",
        "from tensorflow.keras.activations import relu, softmax\n",
        "from tensorflow.keras.initializers import he_uniform, glorot_uniform\n",
        "from tensorflow.keras.metrics import AUC\n",
        "from tensorflow.keras import Model\n",
        "from tensorflow.keras.regularizers import l2\n",
        "from sklearn.metrics import classification_report\n",
        "\n",
        "nltk.download('punkt')\n",
        "nltk.download('stopwords')"
      ]
    },
    {
      "cell_type": "code",
      "source": [
        "#Read the train and test datasets with column names as target and text\n",
        "train= pd.read_csv('/content/bank_train.csv',names= [\"text\", \"target\"])\n",
        "\n",
        "test= pd.read_csv('/content/bank_test.csv',names= [\"text\", \"target\"])"
      ],
      "metadata": {
        "id": "j6HcBsnDmJrn"
      },
      "execution_count": 2,
      "outputs": []
    },
    {
      "cell_type": "code",
      "source": [
        "train.shape"
      ],
      "metadata": {
        "colab": {
          "base_uri": "https://localhost:8080/"
        },
        "id": "mBVUKwVzmJoO",
        "outputId": "6c57a272-0bbe-4b00-ac68-b27b2fdb206a"
      },
      "execution_count": 3,
      "outputs": [
        {
          "output_type": "execute_result",
          "data": {
            "text/plain": [
              "(79, 2)"
            ]
          },
          "metadata": {},
          "execution_count": 3
        }
      ]
    },
    {
      "cell_type": "code",
      "source": [
        "test.shape"
      ],
      "metadata": {
        "colab": {
          "base_uri": "https://localhost:8080/"
        },
        "id": "EgZkAdQMmJmA",
        "outputId": "2d9cb31e-c1bd-4336-ea5b-efa53b9cd4fe"
      },
      "execution_count": 4,
      "outputs": [
        {
          "output_type": "execute_result",
          "data": {
            "text/plain": [
              "(21, 2)"
            ]
          },
          "metadata": {},
          "execution_count": 4
        }
      ]
    },
    {
      "cell_type": "code",
      "source": [
        "train.head()"
      ],
      "metadata": {
        "colab": {
          "base_uri": "https://localhost:8080/",
          "height": 206
        },
        "id": "TLA_7REcmJkP",
        "outputId": "1ec5f7b8-c31f-4082-f3fd-5317f56d031b"
      },
      "execution_count": 5,
      "outputs": [
        {
          "output_type": "execute_result",
          "data": {
            "text/plain": [
              "                                                text  target\n",
              "0  I APPLIED FOR A CREDIT CARD LAST MONTH BUT I D...       0\n",
              "1  I OPENED A NEW ACCOUNT IN YOUR BANK BUT WHEN I...       1\n",
              "2  I APPLIED FOR DEBIT OR CREDIT CARD WHEN I OPEN...       0\n",
              "3  TILL NOW I DID NOT GET ANY DEBIT OR CREDIT CAR...       0\n",
              "4  I GAVE AN APPLICATION FOR LINKING UNIQUE NUMBE...       1"
            ],
            "text/html": [
              "\n",
              "  <div id=\"df-ec780e2c-e75f-49a6-a1e7-ed3f6cc86961\" class=\"colab-df-container\">\n",
              "    <div>\n",
              "<style scoped>\n",
              "    .dataframe tbody tr th:only-of-type {\n",
              "        vertical-align: middle;\n",
              "    }\n",
              "\n",
              "    .dataframe tbody tr th {\n",
              "        vertical-align: top;\n",
              "    }\n",
              "\n",
              "    .dataframe thead th {\n",
              "        text-align: right;\n",
              "    }\n",
              "</style>\n",
              "<table border=\"1\" class=\"dataframe\">\n",
              "  <thead>\n",
              "    <tr style=\"text-align: right;\">\n",
              "      <th></th>\n",
              "      <th>text</th>\n",
              "      <th>target</th>\n",
              "    </tr>\n",
              "  </thead>\n",
              "  <tbody>\n",
              "    <tr>\n",
              "      <th>0</th>\n",
              "      <td>I APPLIED FOR A CREDIT CARD LAST MONTH BUT I D...</td>\n",
              "      <td>0</td>\n",
              "    </tr>\n",
              "    <tr>\n",
              "      <th>1</th>\n",
              "      <td>I OPENED A NEW ACCOUNT IN YOUR BANK BUT WHEN I...</td>\n",
              "      <td>1</td>\n",
              "    </tr>\n",
              "    <tr>\n",
              "      <th>2</th>\n",
              "      <td>I APPLIED FOR DEBIT OR CREDIT CARD WHEN I OPEN...</td>\n",
              "      <td>0</td>\n",
              "    </tr>\n",
              "    <tr>\n",
              "      <th>3</th>\n",
              "      <td>TILL NOW I DID NOT GET ANY DEBIT OR CREDIT CAR...</td>\n",
              "      <td>0</td>\n",
              "    </tr>\n",
              "    <tr>\n",
              "      <th>4</th>\n",
              "      <td>I GAVE AN APPLICATION FOR LINKING UNIQUE NUMBE...</td>\n",
              "      <td>1</td>\n",
              "    </tr>\n",
              "  </tbody>\n",
              "</table>\n",
              "</div>\n",
              "    <div class=\"colab-df-buttons\">\n",
              "\n",
              "  <div class=\"colab-df-container\">\n",
              "    <button class=\"colab-df-convert\" onclick=\"convertToInteractive('df-ec780e2c-e75f-49a6-a1e7-ed3f6cc86961')\"\n",
              "            title=\"Convert this dataframe to an interactive table.\"\n",
              "            style=\"display:none;\">\n",
              "\n",
              "  <svg xmlns=\"http://www.w3.org/2000/svg\" height=\"24px\" viewBox=\"0 -960 960 960\">\n",
              "    <path d=\"M120-120v-720h720v720H120Zm60-500h600v-160H180v160Zm220 220h160v-160H400v160Zm0 220h160v-160H400v160ZM180-400h160v-160H180v160Zm440 0h160v-160H620v160ZM180-180h160v-160H180v160Zm440 0h160v-160H620v160Z\"/>\n",
              "  </svg>\n",
              "    </button>\n",
              "\n",
              "  <style>\n",
              "    .colab-df-container {\n",
              "      display:flex;\n",
              "      gap: 12px;\n",
              "    }\n",
              "\n",
              "    .colab-df-convert {\n",
              "      background-color: #E8F0FE;\n",
              "      border: none;\n",
              "      border-radius: 50%;\n",
              "      cursor: pointer;\n",
              "      display: none;\n",
              "      fill: #1967D2;\n",
              "      height: 32px;\n",
              "      padding: 0 0 0 0;\n",
              "      width: 32px;\n",
              "    }\n",
              "\n",
              "    .colab-df-convert:hover {\n",
              "      background-color: #E2EBFA;\n",
              "      box-shadow: 0px 1px 2px rgba(60, 64, 67, 0.3), 0px 1px 3px 1px rgba(60, 64, 67, 0.15);\n",
              "      fill: #174EA6;\n",
              "    }\n",
              "\n",
              "    .colab-df-buttons div {\n",
              "      margin-bottom: 4px;\n",
              "    }\n",
              "\n",
              "    [theme=dark] .colab-df-convert {\n",
              "      background-color: #3B4455;\n",
              "      fill: #D2E3FC;\n",
              "    }\n",
              "\n",
              "    [theme=dark] .colab-df-convert:hover {\n",
              "      background-color: #434B5C;\n",
              "      box-shadow: 0px 1px 3px 1px rgba(0, 0, 0, 0.15);\n",
              "      filter: drop-shadow(0px 1px 2px rgba(0, 0, 0, 0.3));\n",
              "      fill: #FFFFFF;\n",
              "    }\n",
              "  </style>\n",
              "\n",
              "    <script>\n",
              "      const buttonEl =\n",
              "        document.querySelector('#df-ec780e2c-e75f-49a6-a1e7-ed3f6cc86961 button.colab-df-convert');\n",
              "      buttonEl.style.display =\n",
              "        google.colab.kernel.accessAllowed ? 'block' : 'none';\n",
              "\n",
              "      async function convertToInteractive(key) {\n",
              "        const element = document.querySelector('#df-ec780e2c-e75f-49a6-a1e7-ed3f6cc86961');\n",
              "        const dataTable =\n",
              "          await google.colab.kernel.invokeFunction('convertToInteractive',\n",
              "                                                    [key], {});\n",
              "        if (!dataTable) return;\n",
              "\n",
              "        const docLinkHtml = 'Like what you see? Visit the ' +\n",
              "          '<a target=\"_blank\" href=https://colab.research.google.com/notebooks/data_table.ipynb>data table notebook</a>'\n",
              "          + ' to learn more about interactive tables.';\n",
              "        element.innerHTML = '';\n",
              "        dataTable['output_type'] = 'display_data';\n",
              "        await google.colab.output.renderOutput(dataTable, element);\n",
              "        const docLink = document.createElement('div');\n",
              "        docLink.innerHTML = docLinkHtml;\n",
              "        element.appendChild(docLink);\n",
              "      }\n",
              "    </script>\n",
              "  </div>\n",
              "\n",
              "\n",
              "<div id=\"df-91c4b0fa-4dc8-448b-9526-a33c0e56fafe\">\n",
              "  <button class=\"colab-df-quickchart\" onclick=\"quickchart('df-91c4b0fa-4dc8-448b-9526-a33c0e56fafe')\"\n",
              "            title=\"Suggest charts\"\n",
              "            style=\"display:none;\">\n",
              "\n",
              "<svg xmlns=\"http://www.w3.org/2000/svg\" height=\"24px\"viewBox=\"0 0 24 24\"\n",
              "     width=\"24px\">\n",
              "    <g>\n",
              "        <path d=\"M19 3H5c-1.1 0-2 .9-2 2v14c0 1.1.9 2 2 2h14c1.1 0 2-.9 2-2V5c0-1.1-.9-2-2-2zM9 17H7v-7h2v7zm4 0h-2V7h2v10zm4 0h-2v-4h2v4z\"/>\n",
              "    </g>\n",
              "</svg>\n",
              "  </button>\n",
              "\n",
              "<style>\n",
              "  .colab-df-quickchart {\n",
              "      --bg-color: #E8F0FE;\n",
              "      --fill-color: #1967D2;\n",
              "      --hover-bg-color: #E2EBFA;\n",
              "      --hover-fill-color: #174EA6;\n",
              "      --disabled-fill-color: #AAA;\n",
              "      --disabled-bg-color: #DDD;\n",
              "  }\n",
              "\n",
              "  [theme=dark] .colab-df-quickchart {\n",
              "      --bg-color: #3B4455;\n",
              "      --fill-color: #D2E3FC;\n",
              "      --hover-bg-color: #434B5C;\n",
              "      --hover-fill-color: #FFFFFF;\n",
              "      --disabled-bg-color: #3B4455;\n",
              "      --disabled-fill-color: #666;\n",
              "  }\n",
              "\n",
              "  .colab-df-quickchart {\n",
              "    background-color: var(--bg-color);\n",
              "    border: none;\n",
              "    border-radius: 50%;\n",
              "    cursor: pointer;\n",
              "    display: none;\n",
              "    fill: var(--fill-color);\n",
              "    height: 32px;\n",
              "    padding: 0;\n",
              "    width: 32px;\n",
              "  }\n",
              "\n",
              "  .colab-df-quickchart:hover {\n",
              "    background-color: var(--hover-bg-color);\n",
              "    box-shadow: 0 1px 2px rgba(60, 64, 67, 0.3), 0 1px 3px 1px rgba(60, 64, 67, 0.15);\n",
              "    fill: var(--button-hover-fill-color);\n",
              "  }\n",
              "\n",
              "  .colab-df-quickchart-complete:disabled,\n",
              "  .colab-df-quickchart-complete:disabled:hover {\n",
              "    background-color: var(--disabled-bg-color);\n",
              "    fill: var(--disabled-fill-color);\n",
              "    box-shadow: none;\n",
              "  }\n",
              "\n",
              "  .colab-df-spinner {\n",
              "    border: 2px solid var(--fill-color);\n",
              "    border-color: transparent;\n",
              "    border-bottom-color: var(--fill-color);\n",
              "    animation:\n",
              "      spin 1s steps(1) infinite;\n",
              "  }\n",
              "\n",
              "  @keyframes spin {\n",
              "    0% {\n",
              "      border-color: transparent;\n",
              "      border-bottom-color: var(--fill-color);\n",
              "      border-left-color: var(--fill-color);\n",
              "    }\n",
              "    20% {\n",
              "      border-color: transparent;\n",
              "      border-left-color: var(--fill-color);\n",
              "      border-top-color: var(--fill-color);\n",
              "    }\n",
              "    30% {\n",
              "      border-color: transparent;\n",
              "      border-left-color: var(--fill-color);\n",
              "      border-top-color: var(--fill-color);\n",
              "      border-right-color: var(--fill-color);\n",
              "    }\n",
              "    40% {\n",
              "      border-color: transparent;\n",
              "      border-right-color: var(--fill-color);\n",
              "      border-top-color: var(--fill-color);\n",
              "    }\n",
              "    60% {\n",
              "      border-color: transparent;\n",
              "      border-right-color: var(--fill-color);\n",
              "    }\n",
              "    80% {\n",
              "      border-color: transparent;\n",
              "      border-right-color: var(--fill-color);\n",
              "      border-bottom-color: var(--fill-color);\n",
              "    }\n",
              "    90% {\n",
              "      border-color: transparent;\n",
              "      border-bottom-color: var(--fill-color);\n",
              "    }\n",
              "  }\n",
              "</style>\n",
              "\n",
              "  <script>\n",
              "    async function quickchart(key) {\n",
              "      const quickchartButtonEl =\n",
              "        document.querySelector('#' + key + ' button');\n",
              "      quickchartButtonEl.disabled = true;  // To prevent multiple clicks.\n",
              "      quickchartButtonEl.classList.add('colab-df-spinner');\n",
              "      try {\n",
              "        const charts = await google.colab.kernel.invokeFunction(\n",
              "            'suggestCharts', [key], {});\n",
              "      } catch (error) {\n",
              "        console.error('Error during call to suggestCharts:', error);\n",
              "      }\n",
              "      quickchartButtonEl.classList.remove('colab-df-spinner');\n",
              "      quickchartButtonEl.classList.add('colab-df-quickchart-complete');\n",
              "    }\n",
              "    (() => {\n",
              "      let quickchartButtonEl =\n",
              "        document.querySelector('#df-91c4b0fa-4dc8-448b-9526-a33c0e56fafe button');\n",
              "      quickchartButtonEl.style.display =\n",
              "        google.colab.kernel.accessAllowed ? 'block' : 'none';\n",
              "    })();\n",
              "  </script>\n",
              "</div>\n",
              "    </div>\n",
              "  </div>\n"
            ],
            "application/vnd.google.colaboratory.intrinsic+json": {
              "type": "dataframe",
              "variable_name": "train",
              "summary": "{\n  \"name\": \"train\",\n  \"rows\": 79,\n  \"fields\": [\n    {\n      \"column\": \"text\",\n      \"properties\": {\n        \"dtype\": \"string\",\n        \"num_unique_values\": 70,\n        \"samples\": [\n          \"DURING PAYMENT THROUGH DEBIT CARD IT SHOWS PAYMENT FAILURE . AN ERROR MESSAGE WAS SHOWN THAT \\\" THIS CARD IS NOT RECOGNISED \\\" .\",\n          \"I APPLIED FOR A CREDIT CARD LAST MONTH BUT I DID NOT GET THAT ONE TILL NOW . ALTHOUGH I FULLFILL ALL THE CRITERIA REQUIRED FOR APPLYING CREDIT CARD .\",\n          \"There was a payment gateway failure and money has been debited .\"\n        ],\n        \"semantic_type\": \"\",\n        \"description\": \"\"\n      }\n    },\n    {\n      \"column\": \"target\",\n      \"properties\": {\n        \"dtype\": \"number\",\n        \"std\": 0,\n        \"min\": 0,\n        \"max\": 2,\n        \"num_unique_values\": 3,\n        \"samples\": [\n          0,\n          1,\n          2\n        ],\n        \"semantic_type\": \"\",\n        \"description\": \"\"\n      }\n    }\n  ]\n}"
            }
          },
          "metadata": {},
          "execution_count": 5
        }
      ]
    },
    {
      "cell_type": "code",
      "source": [
        "train['target'].value_counts()"
      ],
      "metadata": {
        "colab": {
          "base_uri": "https://localhost:8080/"
        },
        "id": "zsPIJXVzmJiI",
        "outputId": "84d541a9-fa98-448e-beb7-aea482076f48"
      },
      "execution_count": 7,
      "outputs": [
        {
          "output_type": "execute_result",
          "data": {
            "text/plain": [
              "target\n",
              "2    29\n",
              "1    26\n",
              "0    24\n",
              "Name: count, dtype: int64"
            ]
          },
          "metadata": {},
          "execution_count": 7
        }
      ]
    },
    {
      "cell_type": "markdown",
      "source": [
        "Preprocessing the data"
      ],
      "metadata": {
        "id": "CPYYZIsum6V1"
      }
    },
    {
      "cell_type": "markdown",
      "source": [
        "performing one -hot encoding on target"
      ],
      "metadata": {
        "id": "qnYCtBwvm84D"
      }
    },
    {
      "cell_type": "code",
      "source": [
        "encode_target= oneHot().fit(np.array(train.target).reshape(-1,1))"
      ],
      "metadata": {
        "id": "huYbBJVGmJf7"
      },
      "execution_count": 8,
      "outputs": []
    },
    {
      "cell_type": "code",
      "source": [
        "train_target_encoded= encode_target.transform(np.array(train.target).reshape(-1,1)).toarray()\n",
        "test_target_encoded= encode_target.transform(np.array(test.target).reshape(-1,1)).toarray()"
      ],
      "metadata": {
        "id": "paHfJ3dmmJd8"
      },
      "execution_count": 9,
      "outputs": []
    },
    {
      "cell_type": "code",
      "source": [
        "train_target_encoded"
      ],
      "metadata": {
        "colab": {
          "base_uri": "https://localhost:8080/"
        },
        "id": "GEmUMXKVmJb2",
        "outputId": "f103be1c-9ac6-4169-d765-ab04ee60bec7"
      },
      "execution_count": 10,
      "outputs": [
        {
          "output_type": "execute_result",
          "data": {
            "text/plain": [
              "array([[1., 0., 0.],\n",
              "       [0., 1., 0.],\n",
              "       [1., 0., 0.],\n",
              "       [1., 0., 0.],\n",
              "       [0., 1., 0.],\n",
              "       [0., 1., 0.],\n",
              "       [1., 0., 0.],\n",
              "       [1., 0., 0.],\n",
              "       [0., 1., 0.],\n",
              "       [0., 1., 0.],\n",
              "       [0., 0., 1.],\n",
              "       [0., 0., 1.],\n",
              "       [0., 0., 1.],\n",
              "       [0., 0., 1.],\n",
              "       [0., 0., 1.],\n",
              "       [0., 0., 1.],\n",
              "       [0., 0., 1.],\n",
              "       [0., 0., 1.],\n",
              "       [0., 0., 1.],\n",
              "       [0., 0., 1.],\n",
              "       [0., 1., 0.],\n",
              "       [1., 0., 0.],\n",
              "       [1., 0., 0.],\n",
              "       [0., 1., 0.],\n",
              "       [0., 0., 1.],\n",
              "       [0., 1., 0.],\n",
              "       [0., 1., 0.],\n",
              "       [0., 1., 0.],\n",
              "       [1., 0., 0.],\n",
              "       [1., 0., 0.],\n",
              "       [1., 0., 0.],\n",
              "       [0., 0., 1.],\n",
              "       [0., 0., 1.],\n",
              "       [0., 0., 1.],\n",
              "       [0., 0., 1.],\n",
              "       [0., 0., 1.],\n",
              "       [0., 1., 0.],\n",
              "       [1., 0., 0.],\n",
              "       [1., 0., 0.],\n",
              "       [0., 1., 0.],\n",
              "       [0., 1., 0.],\n",
              "       [0., 1., 0.],\n",
              "       [0., 1., 0.],\n",
              "       [0., 1., 0.],\n",
              "       [0., 0., 1.],\n",
              "       [0., 0., 1.],\n",
              "       [1., 0., 0.],\n",
              "       [1., 0., 0.],\n",
              "       [1., 0., 0.],\n",
              "       [0., 1., 0.],\n",
              "       [0., 1., 0.],\n",
              "       [0., 0., 1.],\n",
              "       [0., 0., 1.],\n",
              "       [0., 0., 1.],\n",
              "       [0., 0., 1.],\n",
              "       [0., 0., 1.],\n",
              "       [0., 0., 1.],\n",
              "       [0., 0., 1.],\n",
              "       [0., 0., 1.],\n",
              "       [0., 1., 0.],\n",
              "       [0., 1., 0.],\n",
              "       [1., 0., 0.],\n",
              "       [0., 1., 0.],\n",
              "       [0., 1., 0.],\n",
              "       [0., 1., 0.],\n",
              "       [1., 0., 0.],\n",
              "       [1., 0., 0.],\n",
              "       [1., 0., 0.],\n",
              "       [0., 0., 1.],\n",
              "       [0., 0., 1.],\n",
              "       [0., 0., 1.],\n",
              "       [0., 1., 0.],\n",
              "       [0., 1., 0.],\n",
              "       [0., 1., 0.],\n",
              "       [1., 0., 0.],\n",
              "       [1., 0., 0.],\n",
              "       [1., 0., 0.],\n",
              "       [1., 0., 0.],\n",
              "       [1., 0., 0.]])"
            ]
          },
          "metadata": {},
          "execution_count": 10
        }
      ]
    },
    {
      "cell_type": "code",
      "source": [
        "test_target_encoded"
      ],
      "metadata": {
        "colab": {
          "base_uri": "https://localhost:8080/"
        },
        "id": "rSZwcbPvmJZ9",
        "outputId": "b58a8e94-91f4-4f67-dd83-f0a796463c80"
      },
      "execution_count": 11,
      "outputs": [
        {
          "output_type": "execute_result",
          "data": {
            "text/plain": [
              "array([[1., 0., 0.],\n",
              "       [0., 1., 0.],\n",
              "       [1., 0., 0.],\n",
              "       [1., 0., 0.],\n",
              "       [1., 0., 0.],\n",
              "       [1., 0., 0.],\n",
              "       [1., 0., 0.],\n",
              "       [0., 0., 1.],\n",
              "       [0., 0., 1.],\n",
              "       [0., 0., 1.],\n",
              "       [0., 0., 1.],\n",
              "       [0., 1., 0.],\n",
              "       [0., 1., 0.],\n",
              "       [0., 1., 0.],\n",
              "       [0., 0., 1.],\n",
              "       [0., 0., 1.],\n",
              "       [0., 0., 1.],\n",
              "       [0., 1., 0.],\n",
              "       [1., 0., 0.],\n",
              "       [1., 0., 0.],\n",
              "       [1., 0., 0.]])"
            ]
          },
          "metadata": {},
          "execution_count": 11
        }
      ]
    },
    {
      "cell_type": "code",
      "source": [],
      "metadata": {
        "id": "M6FE5MeBmJXp"
      },
      "execution_count": null,
      "outputs": []
    },
    {
      "cell_type": "markdown",
      "source": [
        "Converting text to lower text"
      ],
      "metadata": {
        "id": "OVisHX3enYjA"
      }
    },
    {
      "cell_type": "code",
      "source": [
        "train[\"text\"]= train.text.map(lambda l: l.lower())\n",
        "test[\"text\"]= test.text.map(lambda l: l.lower())"
      ],
      "metadata": {
        "id": "8gqgEEE5mJVV"
      },
      "execution_count": 12,
      "outputs": []
    },
    {
      "cell_type": "code",
      "source": [
        "train.head()"
      ],
      "metadata": {
        "colab": {
          "base_uri": "https://localhost:8080/",
          "height": 206
        },
        "id": "xCbC85yVndaY",
        "outputId": "fac7011f-37dc-40bc-b947-01af9ba837a0"
      },
      "execution_count": 13,
      "outputs": [
        {
          "output_type": "execute_result",
          "data": {
            "text/plain": [
              "                                                text  target\n",
              "0  i applied for a credit card last month but i d...       0\n",
              "1  i opened a new account in your bank but when i...       1\n",
              "2  i applied for debit or credit card when i open...       0\n",
              "3  till now i did not get any debit or credit car...       0\n",
              "4  i gave an application for linking unique numbe...       1"
            ],
            "text/html": [
              "\n",
              "  <div id=\"df-35d0b427-f39b-4687-a089-50b189091179\" class=\"colab-df-container\">\n",
              "    <div>\n",
              "<style scoped>\n",
              "    .dataframe tbody tr th:only-of-type {\n",
              "        vertical-align: middle;\n",
              "    }\n",
              "\n",
              "    .dataframe tbody tr th {\n",
              "        vertical-align: top;\n",
              "    }\n",
              "\n",
              "    .dataframe thead th {\n",
              "        text-align: right;\n",
              "    }\n",
              "</style>\n",
              "<table border=\"1\" class=\"dataframe\">\n",
              "  <thead>\n",
              "    <tr style=\"text-align: right;\">\n",
              "      <th></th>\n",
              "      <th>text</th>\n",
              "      <th>target</th>\n",
              "    </tr>\n",
              "  </thead>\n",
              "  <tbody>\n",
              "    <tr>\n",
              "      <th>0</th>\n",
              "      <td>i applied for a credit card last month but i d...</td>\n",
              "      <td>0</td>\n",
              "    </tr>\n",
              "    <tr>\n",
              "      <th>1</th>\n",
              "      <td>i opened a new account in your bank but when i...</td>\n",
              "      <td>1</td>\n",
              "    </tr>\n",
              "    <tr>\n",
              "      <th>2</th>\n",
              "      <td>i applied for debit or credit card when i open...</td>\n",
              "      <td>0</td>\n",
              "    </tr>\n",
              "    <tr>\n",
              "      <th>3</th>\n",
              "      <td>till now i did not get any debit or credit car...</td>\n",
              "      <td>0</td>\n",
              "    </tr>\n",
              "    <tr>\n",
              "      <th>4</th>\n",
              "      <td>i gave an application for linking unique numbe...</td>\n",
              "      <td>1</td>\n",
              "    </tr>\n",
              "  </tbody>\n",
              "</table>\n",
              "</div>\n",
              "    <div class=\"colab-df-buttons\">\n",
              "\n",
              "  <div class=\"colab-df-container\">\n",
              "    <button class=\"colab-df-convert\" onclick=\"convertToInteractive('df-35d0b427-f39b-4687-a089-50b189091179')\"\n",
              "            title=\"Convert this dataframe to an interactive table.\"\n",
              "            style=\"display:none;\">\n",
              "\n",
              "  <svg xmlns=\"http://www.w3.org/2000/svg\" height=\"24px\" viewBox=\"0 -960 960 960\">\n",
              "    <path d=\"M120-120v-720h720v720H120Zm60-500h600v-160H180v160Zm220 220h160v-160H400v160Zm0 220h160v-160H400v160ZM180-400h160v-160H180v160Zm440 0h160v-160H620v160ZM180-180h160v-160H180v160Zm440 0h160v-160H620v160Z\"/>\n",
              "  </svg>\n",
              "    </button>\n",
              "\n",
              "  <style>\n",
              "    .colab-df-container {\n",
              "      display:flex;\n",
              "      gap: 12px;\n",
              "    }\n",
              "\n",
              "    .colab-df-convert {\n",
              "      background-color: #E8F0FE;\n",
              "      border: none;\n",
              "      border-radius: 50%;\n",
              "      cursor: pointer;\n",
              "      display: none;\n",
              "      fill: #1967D2;\n",
              "      height: 32px;\n",
              "      padding: 0 0 0 0;\n",
              "      width: 32px;\n",
              "    }\n",
              "\n",
              "    .colab-df-convert:hover {\n",
              "      background-color: #E2EBFA;\n",
              "      box-shadow: 0px 1px 2px rgba(60, 64, 67, 0.3), 0px 1px 3px 1px rgba(60, 64, 67, 0.15);\n",
              "      fill: #174EA6;\n",
              "    }\n",
              "\n",
              "    .colab-df-buttons div {\n",
              "      margin-bottom: 4px;\n",
              "    }\n",
              "\n",
              "    [theme=dark] .colab-df-convert {\n",
              "      background-color: #3B4455;\n",
              "      fill: #D2E3FC;\n",
              "    }\n",
              "\n",
              "    [theme=dark] .colab-df-convert:hover {\n",
              "      background-color: #434B5C;\n",
              "      box-shadow: 0px 1px 3px 1px rgba(0, 0, 0, 0.15);\n",
              "      filter: drop-shadow(0px 1px 2px rgba(0, 0, 0, 0.3));\n",
              "      fill: #FFFFFF;\n",
              "    }\n",
              "  </style>\n",
              "\n",
              "    <script>\n",
              "      const buttonEl =\n",
              "        document.querySelector('#df-35d0b427-f39b-4687-a089-50b189091179 button.colab-df-convert');\n",
              "      buttonEl.style.display =\n",
              "        google.colab.kernel.accessAllowed ? 'block' : 'none';\n",
              "\n",
              "      async function convertToInteractive(key) {\n",
              "        const element = document.querySelector('#df-35d0b427-f39b-4687-a089-50b189091179');\n",
              "        const dataTable =\n",
              "          await google.colab.kernel.invokeFunction('convertToInteractive',\n",
              "                                                    [key], {});\n",
              "        if (!dataTable) return;\n",
              "\n",
              "        const docLinkHtml = 'Like what you see? Visit the ' +\n",
              "          '<a target=\"_blank\" href=https://colab.research.google.com/notebooks/data_table.ipynb>data table notebook</a>'\n",
              "          + ' to learn more about interactive tables.';\n",
              "        element.innerHTML = '';\n",
              "        dataTable['output_type'] = 'display_data';\n",
              "        await google.colab.output.renderOutput(dataTable, element);\n",
              "        const docLink = document.createElement('div');\n",
              "        docLink.innerHTML = docLinkHtml;\n",
              "        element.appendChild(docLink);\n",
              "      }\n",
              "    </script>\n",
              "  </div>\n",
              "\n",
              "\n",
              "<div id=\"df-7e5073f8-84bd-4fdf-93b2-fba144bb1a67\">\n",
              "  <button class=\"colab-df-quickchart\" onclick=\"quickchart('df-7e5073f8-84bd-4fdf-93b2-fba144bb1a67')\"\n",
              "            title=\"Suggest charts\"\n",
              "            style=\"display:none;\">\n",
              "\n",
              "<svg xmlns=\"http://www.w3.org/2000/svg\" height=\"24px\"viewBox=\"0 0 24 24\"\n",
              "     width=\"24px\">\n",
              "    <g>\n",
              "        <path d=\"M19 3H5c-1.1 0-2 .9-2 2v14c0 1.1.9 2 2 2h14c1.1 0 2-.9 2-2V5c0-1.1-.9-2-2-2zM9 17H7v-7h2v7zm4 0h-2V7h2v10zm4 0h-2v-4h2v4z\"/>\n",
              "    </g>\n",
              "</svg>\n",
              "  </button>\n",
              "\n",
              "<style>\n",
              "  .colab-df-quickchart {\n",
              "      --bg-color: #E8F0FE;\n",
              "      --fill-color: #1967D2;\n",
              "      --hover-bg-color: #E2EBFA;\n",
              "      --hover-fill-color: #174EA6;\n",
              "      --disabled-fill-color: #AAA;\n",
              "      --disabled-bg-color: #DDD;\n",
              "  }\n",
              "\n",
              "  [theme=dark] .colab-df-quickchart {\n",
              "      --bg-color: #3B4455;\n",
              "      --fill-color: #D2E3FC;\n",
              "      --hover-bg-color: #434B5C;\n",
              "      --hover-fill-color: #FFFFFF;\n",
              "      --disabled-bg-color: #3B4455;\n",
              "      --disabled-fill-color: #666;\n",
              "  }\n",
              "\n",
              "  .colab-df-quickchart {\n",
              "    background-color: var(--bg-color);\n",
              "    border: none;\n",
              "    border-radius: 50%;\n",
              "    cursor: pointer;\n",
              "    display: none;\n",
              "    fill: var(--fill-color);\n",
              "    height: 32px;\n",
              "    padding: 0;\n",
              "    width: 32px;\n",
              "  }\n",
              "\n",
              "  .colab-df-quickchart:hover {\n",
              "    background-color: var(--hover-bg-color);\n",
              "    box-shadow: 0 1px 2px rgba(60, 64, 67, 0.3), 0 1px 3px 1px rgba(60, 64, 67, 0.15);\n",
              "    fill: var(--button-hover-fill-color);\n",
              "  }\n",
              "\n",
              "  .colab-df-quickchart-complete:disabled,\n",
              "  .colab-df-quickchart-complete:disabled:hover {\n",
              "    background-color: var(--disabled-bg-color);\n",
              "    fill: var(--disabled-fill-color);\n",
              "    box-shadow: none;\n",
              "  }\n",
              "\n",
              "  .colab-df-spinner {\n",
              "    border: 2px solid var(--fill-color);\n",
              "    border-color: transparent;\n",
              "    border-bottom-color: var(--fill-color);\n",
              "    animation:\n",
              "      spin 1s steps(1) infinite;\n",
              "  }\n",
              "\n",
              "  @keyframes spin {\n",
              "    0% {\n",
              "      border-color: transparent;\n",
              "      border-bottom-color: var(--fill-color);\n",
              "      border-left-color: var(--fill-color);\n",
              "    }\n",
              "    20% {\n",
              "      border-color: transparent;\n",
              "      border-left-color: var(--fill-color);\n",
              "      border-top-color: var(--fill-color);\n",
              "    }\n",
              "    30% {\n",
              "      border-color: transparent;\n",
              "      border-left-color: var(--fill-color);\n",
              "      border-top-color: var(--fill-color);\n",
              "      border-right-color: var(--fill-color);\n",
              "    }\n",
              "    40% {\n",
              "      border-color: transparent;\n",
              "      border-right-color: var(--fill-color);\n",
              "      border-top-color: var(--fill-color);\n",
              "    }\n",
              "    60% {\n",
              "      border-color: transparent;\n",
              "      border-right-color: var(--fill-color);\n",
              "    }\n",
              "    80% {\n",
              "      border-color: transparent;\n",
              "      border-right-color: var(--fill-color);\n",
              "      border-bottom-color: var(--fill-color);\n",
              "    }\n",
              "    90% {\n",
              "      border-color: transparent;\n",
              "      border-bottom-color: var(--fill-color);\n",
              "    }\n",
              "  }\n",
              "</style>\n",
              "\n",
              "  <script>\n",
              "    async function quickchart(key) {\n",
              "      const quickchartButtonEl =\n",
              "        document.querySelector('#' + key + ' button');\n",
              "      quickchartButtonEl.disabled = true;  // To prevent multiple clicks.\n",
              "      quickchartButtonEl.classList.add('colab-df-spinner');\n",
              "      try {\n",
              "        const charts = await google.colab.kernel.invokeFunction(\n",
              "            'suggestCharts', [key], {});\n",
              "      } catch (error) {\n",
              "        console.error('Error during call to suggestCharts:', error);\n",
              "      }\n",
              "      quickchartButtonEl.classList.remove('colab-df-spinner');\n",
              "      quickchartButtonEl.classList.add('colab-df-quickchart-complete');\n",
              "    }\n",
              "    (() => {\n",
              "      let quickchartButtonEl =\n",
              "        document.querySelector('#df-7e5073f8-84bd-4fdf-93b2-fba144bb1a67 button');\n",
              "      quickchartButtonEl.style.display =\n",
              "        google.colab.kernel.accessAllowed ? 'block' : 'none';\n",
              "    })();\n",
              "  </script>\n",
              "</div>\n",
              "    </div>\n",
              "  </div>\n"
            ],
            "application/vnd.google.colaboratory.intrinsic+json": {
              "type": "dataframe",
              "variable_name": "train",
              "summary": "{\n  \"name\": \"train\",\n  \"rows\": 79,\n  \"fields\": [\n    {\n      \"column\": \"text\",\n      \"properties\": {\n        \"dtype\": \"string\",\n        \"num_unique_values\": 70,\n        \"samples\": [\n          \"during payment through debit card it shows payment failure . an error message was shown that \\\" this card is not recognised \\\" .\",\n          \"i applied for a credit card last month but i did not get that one till now . although i fullfill all the criteria required for applying credit card .\",\n          \"there was a payment gateway failure and money has been debited .\"\n        ],\n        \"semantic_type\": \"\",\n        \"description\": \"\"\n      }\n    },\n    {\n      \"column\": \"target\",\n      \"properties\": {\n        \"dtype\": \"number\",\n        \"std\": 0,\n        \"min\": 0,\n        \"max\": 2,\n        \"num_unique_values\": 3,\n        \"samples\": [\n          0,\n          1,\n          2\n        ],\n        \"semantic_type\": \"\",\n        \"description\": \"\"\n      }\n    }\n  ]\n}"
            }
          },
          "metadata": {},
          "execution_count": 13
        }
      ]
    },
    {
      "cell_type": "code",
      "source": [
        "test.head()"
      ],
      "metadata": {
        "colab": {
          "base_uri": "https://localhost:8080/",
          "height": 206
        },
        "id": "tjPj96g1ngHR",
        "outputId": "f3c4fd03-e504-4bc1-a93f-d4a5897a15df"
      },
      "execution_count": 14,
      "outputs": [
        {
          "output_type": "execute_result",
          "data": {
            "text/plain": [
              "                                                text  target\n",
              "0  during withdrawing money from account using de...       0\n",
              "1  the address mentioned on my account is not cor...       1\n",
              "2  the pin you entered is wrong message was shown...       0\n",
              "3  i want to change my debit card pin but not abl...       0\n",
              "4  i am not able to change my debit card security...       0"
            ],
            "text/html": [
              "\n",
              "  <div id=\"df-7f0270a9-5f12-4d40-b69b-29eaed3b93ca\" class=\"colab-df-container\">\n",
              "    <div>\n",
              "<style scoped>\n",
              "    .dataframe tbody tr th:only-of-type {\n",
              "        vertical-align: middle;\n",
              "    }\n",
              "\n",
              "    .dataframe tbody tr th {\n",
              "        vertical-align: top;\n",
              "    }\n",
              "\n",
              "    .dataframe thead th {\n",
              "        text-align: right;\n",
              "    }\n",
              "</style>\n",
              "<table border=\"1\" class=\"dataframe\">\n",
              "  <thead>\n",
              "    <tr style=\"text-align: right;\">\n",
              "      <th></th>\n",
              "      <th>text</th>\n",
              "      <th>target</th>\n",
              "    </tr>\n",
              "  </thead>\n",
              "  <tbody>\n",
              "    <tr>\n",
              "      <th>0</th>\n",
              "      <td>during withdrawing money from account using de...</td>\n",
              "      <td>0</td>\n",
              "    </tr>\n",
              "    <tr>\n",
              "      <th>1</th>\n",
              "      <td>the address mentioned on my account is not cor...</td>\n",
              "      <td>1</td>\n",
              "    </tr>\n",
              "    <tr>\n",
              "      <th>2</th>\n",
              "      <td>the pin you entered is wrong message was shown...</td>\n",
              "      <td>0</td>\n",
              "    </tr>\n",
              "    <tr>\n",
              "      <th>3</th>\n",
              "      <td>i want to change my debit card pin but not abl...</td>\n",
              "      <td>0</td>\n",
              "    </tr>\n",
              "    <tr>\n",
              "      <th>4</th>\n",
              "      <td>i am not able to change my debit card security...</td>\n",
              "      <td>0</td>\n",
              "    </tr>\n",
              "  </tbody>\n",
              "</table>\n",
              "</div>\n",
              "    <div class=\"colab-df-buttons\">\n",
              "\n",
              "  <div class=\"colab-df-container\">\n",
              "    <button class=\"colab-df-convert\" onclick=\"convertToInteractive('df-7f0270a9-5f12-4d40-b69b-29eaed3b93ca')\"\n",
              "            title=\"Convert this dataframe to an interactive table.\"\n",
              "            style=\"display:none;\">\n",
              "\n",
              "  <svg xmlns=\"http://www.w3.org/2000/svg\" height=\"24px\" viewBox=\"0 -960 960 960\">\n",
              "    <path d=\"M120-120v-720h720v720H120Zm60-500h600v-160H180v160Zm220 220h160v-160H400v160Zm0 220h160v-160H400v160ZM180-400h160v-160H180v160Zm440 0h160v-160H620v160ZM180-180h160v-160H180v160Zm440 0h160v-160H620v160Z\"/>\n",
              "  </svg>\n",
              "    </button>\n",
              "\n",
              "  <style>\n",
              "    .colab-df-container {\n",
              "      display:flex;\n",
              "      gap: 12px;\n",
              "    }\n",
              "\n",
              "    .colab-df-convert {\n",
              "      background-color: #E8F0FE;\n",
              "      border: none;\n",
              "      border-radius: 50%;\n",
              "      cursor: pointer;\n",
              "      display: none;\n",
              "      fill: #1967D2;\n",
              "      height: 32px;\n",
              "      padding: 0 0 0 0;\n",
              "      width: 32px;\n",
              "    }\n",
              "\n",
              "    .colab-df-convert:hover {\n",
              "      background-color: #E2EBFA;\n",
              "      box-shadow: 0px 1px 2px rgba(60, 64, 67, 0.3), 0px 1px 3px 1px rgba(60, 64, 67, 0.15);\n",
              "      fill: #174EA6;\n",
              "    }\n",
              "\n",
              "    .colab-df-buttons div {\n",
              "      margin-bottom: 4px;\n",
              "    }\n",
              "\n",
              "    [theme=dark] .colab-df-convert {\n",
              "      background-color: #3B4455;\n",
              "      fill: #D2E3FC;\n",
              "    }\n",
              "\n",
              "    [theme=dark] .colab-df-convert:hover {\n",
              "      background-color: #434B5C;\n",
              "      box-shadow: 0px 1px 3px 1px rgba(0, 0, 0, 0.15);\n",
              "      filter: drop-shadow(0px 1px 2px rgba(0, 0, 0, 0.3));\n",
              "      fill: #FFFFFF;\n",
              "    }\n",
              "  </style>\n",
              "\n",
              "    <script>\n",
              "      const buttonEl =\n",
              "        document.querySelector('#df-7f0270a9-5f12-4d40-b69b-29eaed3b93ca button.colab-df-convert');\n",
              "      buttonEl.style.display =\n",
              "        google.colab.kernel.accessAllowed ? 'block' : 'none';\n",
              "\n",
              "      async function convertToInteractive(key) {\n",
              "        const element = document.querySelector('#df-7f0270a9-5f12-4d40-b69b-29eaed3b93ca');\n",
              "        const dataTable =\n",
              "          await google.colab.kernel.invokeFunction('convertToInteractive',\n",
              "                                                    [key], {});\n",
              "        if (!dataTable) return;\n",
              "\n",
              "        const docLinkHtml = 'Like what you see? Visit the ' +\n",
              "          '<a target=\"_blank\" href=https://colab.research.google.com/notebooks/data_table.ipynb>data table notebook</a>'\n",
              "          + ' to learn more about interactive tables.';\n",
              "        element.innerHTML = '';\n",
              "        dataTable['output_type'] = 'display_data';\n",
              "        await google.colab.output.renderOutput(dataTable, element);\n",
              "        const docLink = document.createElement('div');\n",
              "        docLink.innerHTML = docLinkHtml;\n",
              "        element.appendChild(docLink);\n",
              "      }\n",
              "    </script>\n",
              "  </div>\n",
              "\n",
              "\n",
              "<div id=\"df-7d22c473-3b66-4c28-bd01-5fb109e2fe28\">\n",
              "  <button class=\"colab-df-quickchart\" onclick=\"quickchart('df-7d22c473-3b66-4c28-bd01-5fb109e2fe28')\"\n",
              "            title=\"Suggest charts\"\n",
              "            style=\"display:none;\">\n",
              "\n",
              "<svg xmlns=\"http://www.w3.org/2000/svg\" height=\"24px\"viewBox=\"0 0 24 24\"\n",
              "     width=\"24px\">\n",
              "    <g>\n",
              "        <path d=\"M19 3H5c-1.1 0-2 .9-2 2v14c0 1.1.9 2 2 2h14c1.1 0 2-.9 2-2V5c0-1.1-.9-2-2-2zM9 17H7v-7h2v7zm4 0h-2V7h2v10zm4 0h-2v-4h2v4z\"/>\n",
              "    </g>\n",
              "</svg>\n",
              "  </button>\n",
              "\n",
              "<style>\n",
              "  .colab-df-quickchart {\n",
              "      --bg-color: #E8F0FE;\n",
              "      --fill-color: #1967D2;\n",
              "      --hover-bg-color: #E2EBFA;\n",
              "      --hover-fill-color: #174EA6;\n",
              "      --disabled-fill-color: #AAA;\n",
              "      --disabled-bg-color: #DDD;\n",
              "  }\n",
              "\n",
              "  [theme=dark] .colab-df-quickchart {\n",
              "      --bg-color: #3B4455;\n",
              "      --fill-color: #D2E3FC;\n",
              "      --hover-bg-color: #434B5C;\n",
              "      --hover-fill-color: #FFFFFF;\n",
              "      --disabled-bg-color: #3B4455;\n",
              "      --disabled-fill-color: #666;\n",
              "  }\n",
              "\n",
              "  .colab-df-quickchart {\n",
              "    background-color: var(--bg-color);\n",
              "    border: none;\n",
              "    border-radius: 50%;\n",
              "    cursor: pointer;\n",
              "    display: none;\n",
              "    fill: var(--fill-color);\n",
              "    height: 32px;\n",
              "    padding: 0;\n",
              "    width: 32px;\n",
              "  }\n",
              "\n",
              "  .colab-df-quickchart:hover {\n",
              "    background-color: var(--hover-bg-color);\n",
              "    box-shadow: 0 1px 2px rgba(60, 64, 67, 0.3), 0 1px 3px 1px rgba(60, 64, 67, 0.15);\n",
              "    fill: var(--button-hover-fill-color);\n",
              "  }\n",
              "\n",
              "  .colab-df-quickchart-complete:disabled,\n",
              "  .colab-df-quickchart-complete:disabled:hover {\n",
              "    background-color: var(--disabled-bg-color);\n",
              "    fill: var(--disabled-fill-color);\n",
              "    box-shadow: none;\n",
              "  }\n",
              "\n",
              "  .colab-df-spinner {\n",
              "    border: 2px solid var(--fill-color);\n",
              "    border-color: transparent;\n",
              "    border-bottom-color: var(--fill-color);\n",
              "    animation:\n",
              "      spin 1s steps(1) infinite;\n",
              "  }\n",
              "\n",
              "  @keyframes spin {\n",
              "    0% {\n",
              "      border-color: transparent;\n",
              "      border-bottom-color: var(--fill-color);\n",
              "      border-left-color: var(--fill-color);\n",
              "    }\n",
              "    20% {\n",
              "      border-color: transparent;\n",
              "      border-left-color: var(--fill-color);\n",
              "      border-top-color: var(--fill-color);\n",
              "    }\n",
              "    30% {\n",
              "      border-color: transparent;\n",
              "      border-left-color: var(--fill-color);\n",
              "      border-top-color: var(--fill-color);\n",
              "      border-right-color: var(--fill-color);\n",
              "    }\n",
              "    40% {\n",
              "      border-color: transparent;\n",
              "      border-right-color: var(--fill-color);\n",
              "      border-top-color: var(--fill-color);\n",
              "    }\n",
              "    60% {\n",
              "      border-color: transparent;\n",
              "      border-right-color: var(--fill-color);\n",
              "    }\n",
              "    80% {\n",
              "      border-color: transparent;\n",
              "      border-right-color: var(--fill-color);\n",
              "      border-bottom-color: var(--fill-color);\n",
              "    }\n",
              "    90% {\n",
              "      border-color: transparent;\n",
              "      border-bottom-color: var(--fill-color);\n",
              "    }\n",
              "  }\n",
              "</style>\n",
              "\n",
              "  <script>\n",
              "    async function quickchart(key) {\n",
              "      const quickchartButtonEl =\n",
              "        document.querySelector('#' + key + ' button');\n",
              "      quickchartButtonEl.disabled = true;  // To prevent multiple clicks.\n",
              "      quickchartButtonEl.classList.add('colab-df-spinner');\n",
              "      try {\n",
              "        const charts = await google.colab.kernel.invokeFunction(\n",
              "            'suggestCharts', [key], {});\n",
              "      } catch (error) {\n",
              "        console.error('Error during call to suggestCharts:', error);\n",
              "      }\n",
              "      quickchartButtonEl.classList.remove('colab-df-spinner');\n",
              "      quickchartButtonEl.classList.add('colab-df-quickchart-complete');\n",
              "    }\n",
              "    (() => {\n",
              "      let quickchartButtonEl =\n",
              "        document.querySelector('#df-7d22c473-3b66-4c28-bd01-5fb109e2fe28 button');\n",
              "      quickchartButtonEl.style.display =\n",
              "        google.colab.kernel.accessAllowed ? 'block' : 'none';\n",
              "    })();\n",
              "  </script>\n",
              "</div>\n",
              "    </div>\n",
              "  </div>\n"
            ],
            "application/vnd.google.colaboratory.intrinsic+json": {
              "type": "dataframe",
              "variable_name": "test",
              "summary": "{\n  \"name\": \"test\",\n  \"rows\": 21,\n  \"fields\": [\n    {\n      \"column\": \"text\",\n      \"properties\": {\n        \"dtype\": \"string\",\n        \"num_unique_values\": 21,\n        \"samples\": [\n          \"during withdrawing money from account using debit card from a atm , it was shown that that the pin you entered is incorrect although i entered the correct pin .\",\n          \"a check book is issued on my account but i do not applied for any one . due to this charge for issuing check book is deduced from my account .\",\n          \"how do i find out why a payment or refund transaction failed\"\n        ],\n        \"semantic_type\": \"\",\n        \"description\": \"\"\n      }\n    },\n    {\n      \"column\": \"target\",\n      \"properties\": {\n        \"dtype\": \"number\",\n        \"std\": 0,\n        \"min\": 0,\n        \"max\": 2,\n        \"num_unique_values\": 3,\n        \"samples\": [\n          0,\n          1,\n          2\n        ],\n        \"semantic_type\": \"\",\n        \"description\": \"\"\n      }\n    }\n  ]\n}"
            }
          },
          "metadata": {},
          "execution_count": 14
        }
      ]
    },
    {
      "cell_type": "markdown",
      "source": [
        "Tokenization"
      ],
      "metadata": {
        "id": "07NrmwLOnmsn"
      }
    },
    {
      "cell_type": "code",
      "source": [
        "train[\"text\"]= train.text.map(word_tokenize)\n",
        "test[\"text\"]= test.text.map(word_tokenize)"
      ],
      "metadata": {
        "id": "BBFIQ4Uhnj7S"
      },
      "execution_count": 15,
      "outputs": []
    },
    {
      "cell_type": "code",
      "source": [
        "#Output of the above exercise looks like this\n",
        "train[\"text\"]"
      ],
      "metadata": {
        "colab": {
          "base_uri": "https://localhost:8080/"
        },
        "id": "mm9ueLkXnqgu",
        "outputId": "1d90e1ae-e90a-4113-cd4f-b7e459121c3a"
      },
      "execution_count": 16,
      "outputs": [
        {
          "output_type": "execute_result",
          "data": {
            "text/plain": [
              "0     [i, applied, for, a, credit, card, last, month...\n",
              "1     [i, opened, a, new, account, in, your, bank, b...\n",
              "2     [i, applied, for, debit, or, credit, card, whe...\n",
              "3     [till, now, i, did, not, get, any, debit, or, ...\n",
              "4     [i, gave, an, application, for, linking, uniqu...\n",
              "                            ...                        \n",
              "74    [i, want, to, transfer, money, from, my, accou...\n",
              "75    [i, want, to, transfer, money, from, my, accou...\n",
              "76    [i, made, a, transaction, with, my, debit, car...\n",
              "77    [i, made, a, transaction, on, irctc, using, my...\n",
              "78    [i, applied, for, emi, on, an, online, shoppin...\n",
              "Name: text, Length: 79, dtype: object"
            ]
          },
          "metadata": {},
          "execution_count": 16
        }
      ]
    },
    {
      "cell_type": "code",
      "source": [],
      "metadata": {
        "id": "ptDjUC4LntJ7"
      },
      "execution_count": null,
      "outputs": []
    },
    {
      "cell_type": "markdown",
      "source": [
        "removing stop words"
      ],
      "metadata": {
        "id": "JBzRAdH6nvjw"
      }
    },
    {
      "cell_type": "code",
      "source": [
        "def clean_data_rm_stop(strings, stop_list):\n",
        "    sw= [str for str in strings if str not in stop_list]\n",
        "    return sw\n",
        "\n",
        "stop_words= stopwords.words(\"english\")\n",
        "rm_punc_stop= list(set(punctuation))+ stop_words #Remove punctuation and stop words\n",
        "\n",
        "train[\"text\"]= train.text.map(lambda dataframe: clean_data_rm_stop(dataframe, rm_punc_stop))\n",
        "test[\"text\"]= test.text.map(lambda dataframe: clean_data_rm_stop(dataframe, rm_punc_stop))"
      ],
      "metadata": {
        "id": "CXe15iTMnw2p"
      },
      "execution_count": 17,
      "outputs": []
    },
    {
      "cell_type": "code",
      "source": [],
      "metadata": {
        "id": "AyJZ3V-vnzAA"
      },
      "execution_count": null,
      "outputs": []
    },
    {
      "cell_type": "markdown",
      "source": [
        "performing stemming and normalization"
      ],
      "metadata": {
        "id": "ERRL2tvpn0hr"
      }
    },
    {
      "cell_type": "code",
      "source": [
        "def normalize(text):\n",
        "    return \" \".join(text)\n",
        "\n",
        "#We use PorterStemmer function from nltk.stem library.\n",
        "stem_func= PorterStemmer()\n",
        "\n",
        "train[\"text\"]= train.text.map(lambda s: [stem_func.stem(x) for x in s])\n",
        "train[\"text\"]= train.text.apply(normalize)\n",
        "\n",
        "test[\"text\"]= test.text.map(lambda s: [stem_func.stem(x) for x in s])\n",
        "test[\"text\"]= test.text.apply(normalize)"
      ],
      "metadata": {
        "id": "JK3Zfhbsn3MT"
      },
      "execution_count": 18,
      "outputs": []
    },
    {
      "cell_type": "code",
      "source": [
        "train.head()"
      ],
      "metadata": {
        "colab": {
          "base_uri": "https://localhost:8080/",
          "height": 206
        },
        "id": "eR4CD0YJn5Cg",
        "outputId": "b2098be1-3d9e-43a5-c3ab-0a99bc7de6de"
      },
      "execution_count": 19,
      "outputs": [
        {
          "output_type": "execute_result",
          "data": {
            "text/plain": [
              "                                                text  target\n",
              "0  appli credit card last month get one till alth...       0\n",
              "1  open new account bank got passbook found middl...       1\n",
              "2  appli debit credit card open account bank last...       0\n",
              "3   till get debit credit card appli last month bank       0\n",
              "4  gave applic link uniqu number bank account las...       1"
            ],
            "text/html": [
              "\n",
              "  <div id=\"df-e33363a8-51d9-4c53-9892-f9ec9079a3a4\" class=\"colab-df-container\">\n",
              "    <div>\n",
              "<style scoped>\n",
              "    .dataframe tbody tr th:only-of-type {\n",
              "        vertical-align: middle;\n",
              "    }\n",
              "\n",
              "    .dataframe tbody tr th {\n",
              "        vertical-align: top;\n",
              "    }\n",
              "\n",
              "    .dataframe thead th {\n",
              "        text-align: right;\n",
              "    }\n",
              "</style>\n",
              "<table border=\"1\" class=\"dataframe\">\n",
              "  <thead>\n",
              "    <tr style=\"text-align: right;\">\n",
              "      <th></th>\n",
              "      <th>text</th>\n",
              "      <th>target</th>\n",
              "    </tr>\n",
              "  </thead>\n",
              "  <tbody>\n",
              "    <tr>\n",
              "      <th>0</th>\n",
              "      <td>appli credit card last month get one till alth...</td>\n",
              "      <td>0</td>\n",
              "    </tr>\n",
              "    <tr>\n",
              "      <th>1</th>\n",
              "      <td>open new account bank got passbook found middl...</td>\n",
              "      <td>1</td>\n",
              "    </tr>\n",
              "    <tr>\n",
              "      <th>2</th>\n",
              "      <td>appli debit credit card open account bank last...</td>\n",
              "      <td>0</td>\n",
              "    </tr>\n",
              "    <tr>\n",
              "      <th>3</th>\n",
              "      <td>till get debit credit card appli last month bank</td>\n",
              "      <td>0</td>\n",
              "    </tr>\n",
              "    <tr>\n",
              "      <th>4</th>\n",
              "      <td>gave applic link uniqu number bank account las...</td>\n",
              "      <td>1</td>\n",
              "    </tr>\n",
              "  </tbody>\n",
              "</table>\n",
              "</div>\n",
              "    <div class=\"colab-df-buttons\">\n",
              "\n",
              "  <div class=\"colab-df-container\">\n",
              "    <button class=\"colab-df-convert\" onclick=\"convertToInteractive('df-e33363a8-51d9-4c53-9892-f9ec9079a3a4')\"\n",
              "            title=\"Convert this dataframe to an interactive table.\"\n",
              "            style=\"display:none;\">\n",
              "\n",
              "  <svg xmlns=\"http://www.w3.org/2000/svg\" height=\"24px\" viewBox=\"0 -960 960 960\">\n",
              "    <path d=\"M120-120v-720h720v720H120Zm60-500h600v-160H180v160Zm220 220h160v-160H400v160Zm0 220h160v-160H400v160ZM180-400h160v-160H180v160Zm440 0h160v-160H620v160ZM180-180h160v-160H180v160Zm440 0h160v-160H620v160Z\"/>\n",
              "  </svg>\n",
              "    </button>\n",
              "\n",
              "  <style>\n",
              "    .colab-df-container {\n",
              "      display:flex;\n",
              "      gap: 12px;\n",
              "    }\n",
              "\n",
              "    .colab-df-convert {\n",
              "      background-color: #E8F0FE;\n",
              "      border: none;\n",
              "      border-radius: 50%;\n",
              "      cursor: pointer;\n",
              "      display: none;\n",
              "      fill: #1967D2;\n",
              "      height: 32px;\n",
              "      padding: 0 0 0 0;\n",
              "      width: 32px;\n",
              "    }\n",
              "\n",
              "    .colab-df-convert:hover {\n",
              "      background-color: #E2EBFA;\n",
              "      box-shadow: 0px 1px 2px rgba(60, 64, 67, 0.3), 0px 1px 3px 1px rgba(60, 64, 67, 0.15);\n",
              "      fill: #174EA6;\n",
              "    }\n",
              "\n",
              "    .colab-df-buttons div {\n",
              "      margin-bottom: 4px;\n",
              "    }\n",
              "\n",
              "    [theme=dark] .colab-df-convert {\n",
              "      background-color: #3B4455;\n",
              "      fill: #D2E3FC;\n",
              "    }\n",
              "\n",
              "    [theme=dark] .colab-df-convert:hover {\n",
              "      background-color: #434B5C;\n",
              "      box-shadow: 0px 1px 3px 1px rgba(0, 0, 0, 0.15);\n",
              "      filter: drop-shadow(0px 1px 2px rgba(0, 0, 0, 0.3));\n",
              "      fill: #FFFFFF;\n",
              "    }\n",
              "  </style>\n",
              "\n",
              "    <script>\n",
              "      const buttonEl =\n",
              "        document.querySelector('#df-e33363a8-51d9-4c53-9892-f9ec9079a3a4 button.colab-df-convert');\n",
              "      buttonEl.style.display =\n",
              "        google.colab.kernel.accessAllowed ? 'block' : 'none';\n",
              "\n",
              "      async function convertToInteractive(key) {\n",
              "        const element = document.querySelector('#df-e33363a8-51d9-4c53-9892-f9ec9079a3a4');\n",
              "        const dataTable =\n",
              "          await google.colab.kernel.invokeFunction('convertToInteractive',\n",
              "                                                    [key], {});\n",
              "        if (!dataTable) return;\n",
              "\n",
              "        const docLinkHtml = 'Like what you see? Visit the ' +\n",
              "          '<a target=\"_blank\" href=https://colab.research.google.com/notebooks/data_table.ipynb>data table notebook</a>'\n",
              "          + ' to learn more about interactive tables.';\n",
              "        element.innerHTML = '';\n",
              "        dataTable['output_type'] = 'display_data';\n",
              "        await google.colab.output.renderOutput(dataTable, element);\n",
              "        const docLink = document.createElement('div');\n",
              "        docLink.innerHTML = docLinkHtml;\n",
              "        element.appendChild(docLink);\n",
              "      }\n",
              "    </script>\n",
              "  </div>\n",
              "\n",
              "\n",
              "<div id=\"df-b341bc35-a5e2-43fc-a11a-0951cd95eefc\">\n",
              "  <button class=\"colab-df-quickchart\" onclick=\"quickchart('df-b341bc35-a5e2-43fc-a11a-0951cd95eefc')\"\n",
              "            title=\"Suggest charts\"\n",
              "            style=\"display:none;\">\n",
              "\n",
              "<svg xmlns=\"http://www.w3.org/2000/svg\" height=\"24px\"viewBox=\"0 0 24 24\"\n",
              "     width=\"24px\">\n",
              "    <g>\n",
              "        <path d=\"M19 3H5c-1.1 0-2 .9-2 2v14c0 1.1.9 2 2 2h14c1.1 0 2-.9 2-2V5c0-1.1-.9-2-2-2zM9 17H7v-7h2v7zm4 0h-2V7h2v10zm4 0h-2v-4h2v4z\"/>\n",
              "    </g>\n",
              "</svg>\n",
              "  </button>\n",
              "\n",
              "<style>\n",
              "  .colab-df-quickchart {\n",
              "      --bg-color: #E8F0FE;\n",
              "      --fill-color: #1967D2;\n",
              "      --hover-bg-color: #E2EBFA;\n",
              "      --hover-fill-color: #174EA6;\n",
              "      --disabled-fill-color: #AAA;\n",
              "      --disabled-bg-color: #DDD;\n",
              "  }\n",
              "\n",
              "  [theme=dark] .colab-df-quickchart {\n",
              "      --bg-color: #3B4455;\n",
              "      --fill-color: #D2E3FC;\n",
              "      --hover-bg-color: #434B5C;\n",
              "      --hover-fill-color: #FFFFFF;\n",
              "      --disabled-bg-color: #3B4455;\n",
              "      --disabled-fill-color: #666;\n",
              "  }\n",
              "\n",
              "  .colab-df-quickchart {\n",
              "    background-color: var(--bg-color);\n",
              "    border: none;\n",
              "    border-radius: 50%;\n",
              "    cursor: pointer;\n",
              "    display: none;\n",
              "    fill: var(--fill-color);\n",
              "    height: 32px;\n",
              "    padding: 0;\n",
              "    width: 32px;\n",
              "  }\n",
              "\n",
              "  .colab-df-quickchart:hover {\n",
              "    background-color: var(--hover-bg-color);\n",
              "    box-shadow: 0 1px 2px rgba(60, 64, 67, 0.3), 0 1px 3px 1px rgba(60, 64, 67, 0.15);\n",
              "    fill: var(--button-hover-fill-color);\n",
              "  }\n",
              "\n",
              "  .colab-df-quickchart-complete:disabled,\n",
              "  .colab-df-quickchart-complete:disabled:hover {\n",
              "    background-color: var(--disabled-bg-color);\n",
              "    fill: var(--disabled-fill-color);\n",
              "    box-shadow: none;\n",
              "  }\n",
              "\n",
              "  .colab-df-spinner {\n",
              "    border: 2px solid var(--fill-color);\n",
              "    border-color: transparent;\n",
              "    border-bottom-color: var(--fill-color);\n",
              "    animation:\n",
              "      spin 1s steps(1) infinite;\n",
              "  }\n",
              "\n",
              "  @keyframes spin {\n",
              "    0% {\n",
              "      border-color: transparent;\n",
              "      border-bottom-color: var(--fill-color);\n",
              "      border-left-color: var(--fill-color);\n",
              "    }\n",
              "    20% {\n",
              "      border-color: transparent;\n",
              "      border-left-color: var(--fill-color);\n",
              "      border-top-color: var(--fill-color);\n",
              "    }\n",
              "    30% {\n",
              "      border-color: transparent;\n",
              "      border-left-color: var(--fill-color);\n",
              "      border-top-color: var(--fill-color);\n",
              "      border-right-color: var(--fill-color);\n",
              "    }\n",
              "    40% {\n",
              "      border-color: transparent;\n",
              "      border-right-color: var(--fill-color);\n",
              "      border-top-color: var(--fill-color);\n",
              "    }\n",
              "    60% {\n",
              "      border-color: transparent;\n",
              "      border-right-color: var(--fill-color);\n",
              "    }\n",
              "    80% {\n",
              "      border-color: transparent;\n",
              "      border-right-color: var(--fill-color);\n",
              "      border-bottom-color: var(--fill-color);\n",
              "    }\n",
              "    90% {\n",
              "      border-color: transparent;\n",
              "      border-bottom-color: var(--fill-color);\n",
              "    }\n",
              "  }\n",
              "</style>\n",
              "\n",
              "  <script>\n",
              "    async function quickchart(key) {\n",
              "      const quickchartButtonEl =\n",
              "        document.querySelector('#' + key + ' button');\n",
              "      quickchartButtonEl.disabled = true;  // To prevent multiple clicks.\n",
              "      quickchartButtonEl.classList.add('colab-df-spinner');\n",
              "      try {\n",
              "        const charts = await google.colab.kernel.invokeFunction(\n",
              "            'suggestCharts', [key], {});\n",
              "      } catch (error) {\n",
              "        console.error('Error during call to suggestCharts:', error);\n",
              "      }\n",
              "      quickchartButtonEl.classList.remove('colab-df-spinner');\n",
              "      quickchartButtonEl.classList.add('colab-df-quickchart-complete');\n",
              "    }\n",
              "    (() => {\n",
              "      let quickchartButtonEl =\n",
              "        document.querySelector('#df-b341bc35-a5e2-43fc-a11a-0951cd95eefc button');\n",
              "      quickchartButtonEl.style.display =\n",
              "        google.colab.kernel.accessAllowed ? 'block' : 'none';\n",
              "    })();\n",
              "  </script>\n",
              "</div>\n",
              "    </div>\n",
              "  </div>\n"
            ],
            "application/vnd.google.colaboratory.intrinsic+json": {
              "type": "dataframe",
              "variable_name": "train",
              "summary": "{\n  \"name\": \"train\",\n  \"rows\": 79,\n  \"fields\": [\n    {\n      \"column\": \"text\",\n      \"properties\": {\n        \"dtype\": \"string\",\n        \"num_unique_values\": 70,\n        \"samples\": [\n          \"payment debit card show payment failur error messag shown `` card recognis ``\",\n          \"appli credit card last month get one till although fullfil criteria requir appli credit card\",\n          \"payment gateway failur money debit\"\n        ],\n        \"semantic_type\": \"\",\n        \"description\": \"\"\n      }\n    },\n    {\n      \"column\": \"target\",\n      \"properties\": {\n        \"dtype\": \"number\",\n        \"std\": 0,\n        \"min\": 0,\n        \"max\": 2,\n        \"num_unique_values\": 3,\n        \"samples\": [\n          0,\n          1,\n          2\n        ],\n        \"semantic_type\": \"\",\n        \"description\": \"\"\n      }\n    }\n  ]\n}"
            }
          },
          "metadata": {},
          "execution_count": 19
        }
      ]
    },
    {
      "cell_type": "code",
      "source": [],
      "metadata": {
        "id": "zDrnIyqhn7NX"
      },
      "execution_count": null,
      "outputs": []
    },
    {
      "cell_type": "markdown",
      "source": [
        "tokenize"
      ],
      "metadata": {
        "id": "8INWr-5loBDb"
      }
    },
    {
      "cell_type": "code",
      "source": [
        "# We use Tokenizer from tensorflow.keras.preprocessing.text library\n",
        "num_words=10000\n",
        "text_tokenizer= Tokenizer(num_words)\n",
        "text_tokenizer.fit_on_texts(train.text) #fit_on_texts - creates the vocabulary index based on word frequency.\n",
        "\n",
        "tokenized_train_data= text_tokenizer.texts_to_sequences(train.text) #Converting texts to sequences\n",
        "tokenized_test_data= text_tokenizer.texts_to_sequences(test.text)"
      ],
      "metadata": {
        "id": "KLbDHBAmoByf"
      },
      "execution_count": 20,
      "outputs": []
    },
    {
      "cell_type": "code",
      "source": [
        "tokenized_train_data"
      ],
      "metadata": {
        "colab": {
          "base_uri": "https://localhost:8080/"
        },
        "id": "WRsjSBvZoEdL",
        "outputId": "19a92e06-7dfc-440c-a2a3-e661c4e52534"
      },
      "execution_count": 21,
      "outputs": [
        {
          "output_type": "execute_result",
          "data": {
            "text/plain": [
              "[[8, 15, 2, 12, 18, 24, 39, 9, 68, 131, 132, 52, 8, 15, 2],\n",
              " [53, 31, 1, 11, 40, 54, 41, 133, 42, 69, 70],\n",
              " [8, 4, 15, 2, 53, 1, 11, 12, 18, 24, 9],\n",
              " [9, 24, 4, 15, 2, 8, 12, 18, 11],\n",
              " [16, 10, 17, 25, 7, 11, 1, 12, 18, 9, 55],\n",
              " [14, 56, 19, 7, 134, 17, 1, 14, 87, 31, 7],\n",
              " [88, 4, 15, 2, 71, 14, 89, 4, 15, 2, 72, 29, 90],\n",
              " [73, 89, 4, 15, 2, 88, 4, 15, 2, 71, 72, 29, 90],\n",
              " [16, 10, 17, 19, 7, 1, 12, 57, 9, 24, 29, 74],\n",
              " [16, 10, 17, 19, 7, 1, 12, 18, 24, 135, 72, 1, 75, 7],\n",
              " [3, 30, 43, 91, 92, 32],\n",
              " [3, 39, 32, 43, 93, 94, 32],\n",
              " [95, 33, 1, 26, 96, 20, 21, 3],\n",
              " [136, 20, 1, 137, 27, 138, 97, 76],\n",
              " [6, 77, 1],\n",
              " [139, 77, 6, 1, 44, 21, 3, 5],\n",
              " [11, 1, 30, 140, 77, 76, 5],\n",
              " [141, 6, 34, 142, 6, 143, 78, 76, 144, 1],\n",
              " [145, 74, 3, 20],\n",
              " [6, 146, 98, 147, 148, 99, 3, 20],\n",
              " [8, 31, 1, 11, 40, 54, 41, 42, 79, 69, 70],\n",
              " [35, 22, 5, 4, 15, 2, 45, 58, 59, 2, 100],\n",
              " [5, 4, 2, 46, 5, 20, 45, 58, 59, 2, 100],\n",
              " [8, 31, 1, 11, 40, 54, 41, 149, 150, 69, 70, 54],\n",
              " [21, 151, 5, 3, 44],\n",
              " [14,\n",
              "  8,\n",
              "  101,\n",
              "  102,\n",
              "  25,\n",
              "  7,\n",
              "  17,\n",
              "  1,\n",
              "  13,\n",
              "  8,\n",
              "  13,\n",
              "  25,\n",
              "  7,\n",
              "  13,\n",
              "  103,\n",
              "  27,\n",
              "  36,\n",
              "  39,\n",
              "  47,\n",
              "  13,\n",
              "  25,\n",
              "  7,\n",
              "  104,\n",
              "  10],\n",
              " [16, 10, 17, 31, 19, 7, 1, 105, 17, 19, 7, 80, 9, 60, 26, 106, 107, 78],\n",
              " [16, 10, 61, 108, 3, 109, 27, 36, 47, 62, 2, 10, 63, 61, 9, 73, 110, 111],\n",
              " [14, 37, 6, 1, 64, 1, 65, 4, 2, 35, 48, 37, 46, 45],\n",
              " [14, 37, 6, 1, 64, 1, 65, 4, 2, 112, 113, 11, 75, 19, 7, 22, 3],\n",
              " [49, 3, 4, 2, 81, 114, 38, 115, 3, 82, 6, 23, 1],\n",
              " [3, 30, 43, 91, 92, 32],\n",
              " [3, 39, 32, 43, 93, 94, 32],\n",
              " [95, 33, 1, 26, 96, 20, 21, 3],\n",
              " [152, 153, 30, 1, 3, 44],\n",
              " [154, 5, 155, 97, 26, 156, 50, 157],\n",
              " [14, 87, 62, 2, 7, 1, 22, 158, 3, 28],\n",
              " [22, 5, 4, 2, 38, 116, 5, 30, 46, 20, 5, 33, 23, 1],\n",
              " [5, 48, 33, 23, 1, 22, 5, 38, 116],\n",
              " [16, 10, 55, 66, 67, 1, 60, 9, 27, 36, 159, 117, 10],\n",
              " [8, 53, 83, 1, 160, 12, 18, 40, 1, 67, 41, 66, 1],\n",
              " [8, 53, 66, 1, 12, 18, 40, 1, 67, 41, 83, 1, 79],\n",
              " [16, 10, 118, 1, 11, 12, 57, 27, 161, 162, 119, 118, 1, 163, 60, 9],\n",
              " [8, 50, 11, 120, 1, 12, 57, 9, 24, 29, 74, 164, 52, 29, 10, 63],\n",
              " [1, 46, 6, 4, 165, 51],\n",
              " [5, 166, 121, 122, 123, 33, 1],\n",
              " [35, 56, 4, 2, 167, 168, 28, 34, 169, 68, 124, 13, 29, 52, 121],\n",
              " [84, 6, 34, 28, 4, 3, 44, 6, 23, 1, 1],\n",
              " [35, 22, 21, 3, 4, 2, 68, 124, 29, 170],\n",
              " [8, 55, 62, 2, 25, 2, 7, 1, 12, 57, 55, 9, 125, 27, 36, 47, 52, 117, 10, 63],\n",
              " [8, 13, 42, 1, 12, 18, 9, 125, 13, 26, 80, 171, 28, 11, 67],\n",
              " [172, 173, 5, 174, 20],\n",
              " [5, 175, 20, 6, 4],\n",
              " [6, 15],\n",
              " [5, 176, 26, 177, 178, 58, 122, 123, 33],\n",
              " [3, 43],\n",
              " [44, 34, 3],\n",
              " [34, 1, 24, 4, 179, 180, 181, 182],\n",
              " [5, 3, 183, 184, 5, 49, 185],\n",
              " [126, 50, 11, 85, 14, 86, 35, 86, 85],\n",
              " [126, 50, 11, 127, 42, 14, 86, 186],\n",
              " [22, 3, 4, 2, 84, 6, 34, 3, 48, 6, 23, 1],\n",
              " [8, 50, 11, 120, 1, 187, 99, 188, 24, 127, 42, 85, 9],\n",
              " [8, 56, 66, 1, 83, 1, 79, 12, 18, 9, 56],\n",
              " [16, 10, 13, 189, 190, 1, 13, 9, 71],\n",
              " [28, 4, 2, 84, 6, 1, 3, 48, 26, 119, 6, 23, 1],\n",
              " [28, 4, 2, 22, 5, 21, 51, 6, 23, 1, 5, 30, 59, 128],\n",
              " [49, 3, 21, 51, 81, 191, 5, 30, 82, 6, 23, 1],\n",
              " [128, 4, 2, 5],\n",
              " [5, 192, 11, 45, 58, 21, 5],\n",
              " [2, 5, 193, 194],\n",
              " [14,\n",
              "  8,\n",
              "  101,\n",
              "  102,\n",
              "  25,\n",
              "  7,\n",
              "  17,\n",
              "  1,\n",
              "  13,\n",
              "  8,\n",
              "  13,\n",
              "  25,\n",
              "  7,\n",
              "  13,\n",
              "  103,\n",
              "  27,\n",
              "  36,\n",
              "  39,\n",
              "  47,\n",
              "  13,\n",
              "  25,\n",
              "  7,\n",
              "  104,\n",
              "  10],\n",
              " [16, 10, 17, 31, 19, 7, 1, 105, 17, 19, 7, 80, 9, 60, 26, 106, 107, 78],\n",
              " [16, 10, 61, 108, 3, 109, 27, 36, 47, 62, 2, 10, 63, 61, 9, 73, 110, 111],\n",
              " [14, 37, 6, 1, 64, 1, 65, 4, 2, 35, 48, 37, 46, 45],\n",
              " [14, 37, 6, 1, 64, 1, 65, 4, 2, 112, 113, 11, 75, 19, 7, 22, 3],\n",
              " [49, 3, 4, 2, 81, 114, 38, 115, 3, 82, 6, 23, 1],\n",
              " [49, 3, 195, 28, 4, 2, 196, 129, 129, 197, 98, 6, 198, 1],\n",
              " [8, 130, 21, 38, 51, 28, 15, 2, 130, 199, 1, 59, 38, 51]]"
            ]
          },
          "metadata": {},
          "execution_count": 21
        }
      ]
    },
    {
      "cell_type": "code",
      "source": [],
      "metadata": {
        "id": "OgEzIi0KoGy4"
      },
      "execution_count": null,
      "outputs": []
    },
    {
      "cell_type": "markdown",
      "source": [
        "padding the sequences"
      ],
      "metadata": {
        "id": "4IxKxoiSoPHl"
      }
    },
    {
      "cell_type": "code",
      "source": [
        "#We use pad_sequences from tensorflow.keras.preprocessing.sequence library\n",
        "train_data= pad_sequences(tokenized_train_data, maxlen= 20, padding= \"pre\")\n",
        "test_data= pad_sequences(tokenized_test_data, maxlen= 20, padding= \"pre\")"
      ],
      "metadata": {
        "id": "R-8F-2uroZJe"
      },
      "execution_count": 22,
      "outputs": []
    },
    {
      "cell_type": "code",
      "source": [
        "train_data"
      ],
      "metadata": {
        "colab": {
          "base_uri": "https://localhost:8080/"
        },
        "id": "2TQAdni6odxH",
        "outputId": "d659640b-f469-4cf2-d151-98a3d8b90538"
      },
      "execution_count": 23,
      "outputs": [
        {
          "output_type": "execute_result",
          "data": {
            "text/plain": [
              "array([[  0,   0,   0, ...,   8,  15,   2],\n",
              "       [  0,   0,   0, ...,  42,  69,  70],\n",
              "       [  0,   0,   0, ...,  18,  24,   9],\n",
              "       ...,\n",
              "       [  0,   0,   0, ...,   6,  23,   1],\n",
              "       [  0,   0,   0, ...,   6, 198,   1],\n",
              "       [  0,   0,   0, ...,  59,  38,  51]], dtype=int32)"
            ]
          },
          "metadata": {},
          "execution_count": 23
        }
      ]
    },
    {
      "cell_type": "code",
      "source": [
        "train_data.shape"
      ],
      "metadata": {
        "colab": {
          "base_uri": "https://localhost:8080/"
        },
        "id": "yB4_9xRzogYf",
        "outputId": "51b9a409-6550-4211-abc7-1a4b17c07bae"
      },
      "execution_count": 24,
      "outputs": [
        {
          "output_type": "execute_result",
          "data": {
            "text/plain": [
              "(79, 20)"
            ]
          },
          "metadata": {},
          "execution_count": 24
        }
      ]
    },
    {
      "cell_type": "markdown",
      "source": [
        "build a 3 dim array. The dimensions are samples, steps and unique words."
      ],
      "metadata": {
        "id": "iYiyLjhMonit"
      }
    },
    {
      "cell_type": "code",
      "source": [
        "def transform_matrix(data, tokenizer):\n",
        "    output_shape_mat= [data.shape[0],\n",
        "                  data.shape[1],\n",
        "                  tokenizer.word_index.keys().__len__()] #Three dimensional matrix with samples, steps and number of uniques words as each dimension.\n",
        "    results_data= np.zeros(output_shape_mat) #creates new array with given dimensions.\n",
        "\n",
        "    for i in range(data.shape[0]):\n",
        "        for j in range(data.shape[1]):\n",
        "            results_data[i, j, data[i,j]-1]= 1 # In this for loop, we are looping over the shape of the training & test data and assigning the cell of above created zero matrix to 1. We are performing encoding on the unique words to obtain the transformation matrix\n",
        "    return results_data\n",
        "\n",
        "trans_matrix_train= transform_matrix(train_data, text_tokenizer) #This will be the matrix on which the lstm model is applied\n",
        "trans_matrix_test= transform_matrix(test_data, text_tokenizer) #This will be the matrix on which the model is tested"
      ],
      "metadata": {
        "id": "LWVwQNIKojLq"
      },
      "execution_count": 25,
      "outputs": []
    },
    {
      "cell_type": "code",
      "source": [
        "trans_matrix_train.shape"
      ],
      "metadata": {
        "colab": {
          "base_uri": "https://localhost:8080/"
        },
        "id": "fGQi974pot39",
        "outputId": "045897e9-893d-4ad0-e5c4-9fa002d7d1c6"
      },
      "execution_count": 26,
      "outputs": [
        {
          "output_type": "execute_result",
          "data": {
            "text/plain": [
              "(79, 20, 199)"
            ]
          },
          "metadata": {},
          "execution_count": 26
        }
      ]
    },
    {
      "cell_type": "code",
      "source": [
        "trans_matrix_test.shape"
      ],
      "metadata": {
        "colab": {
          "base_uri": "https://localhost:8080/"
        },
        "id": "1QbEEPXmowwB",
        "outputId": "38595ee3-d6bc-4402-84e2-23df073d9aae"
      },
      "execution_count": 27,
      "outputs": [
        {
          "output_type": "execute_result",
          "data": {
            "text/plain": [
              "(21, 20, 199)"
            ]
          },
          "metadata": {},
          "execution_count": 27
        }
      ]
    },
    {
      "cell_type": "code",
      "source": [],
      "metadata": {
        "id": "yC9CbQjloywg"
      },
      "execution_count": null,
      "outputs": []
    },
    {
      "cell_type": "markdown",
      "source": [
        "Build LSTM model"
      ],
      "metadata": {
        "id": "C2yNK74so0iq"
      }
    },
    {
      "cell_type": "code",
      "source": [
        "class lstm_model_class(object):\n",
        "    def build_lstm_model(self,input_dimensions, op_shape, num_steps, dropout_rate, kernel_reg, bias_reg):\n",
        "      ip_layer= Input(shape= (num_steps, input_dimensions)) #Define embedded layer with shape as number of steps and input dimensions. Note that both these are input variables to the model.\n",
        "\n",
        "      lstm_model= LSTM(units= num_steps)(ip_layer) #Make the LSTM layer with number of steps as memory units\n",
        "      dense_layer_1= Dense(op_shape, kernel_initializer= he_uniform(), #he_uniform draws samples in uniform distribution with -inf to +inf as range.\n",
        "                   bias_initializer= \"zeros\",\n",
        "                   kernel_regularizer= l2(l= kernel_reg),\n",
        "                   bias_regularizer= l2(l= bias_reg))(lstm_model) # Create the  Dense layer which is the regular deeply connected layer\n",
        "      int_layer= BatchNormalization()(dense_layer_1) #Normalize and scale activations of the dense layer with BatchNormalization function\n",
        "      int_layer= relu(int_layer) #This applies the rectified linear unit activation function\n",
        "      int_layer= Dropout(rate= dropout_rate)(int_layer) #Dropout is used to define Dropout layer that sets input units to 0 with a frequency. Here it is dropout_rate\n",
        "      output_1= Dense(op_shape, kernel_initializer= glorot_uniform(), #glorot_uniform draws samples in uniform distribution with stddev = sqrt(2 / (fan_in + fan_out)) fan_in is num of units in weight tensor and fan_out is num of output units\n",
        "             bias_initializer= \"zeros\",\n",
        "             kernel_regularizer= l2(l= kernel_reg),\n",
        "             bias_regularizer= l2(l= bias_reg))(dense_layer_1) # Create another dense layer which is the output of the model.\n",
        "      output_1= BatchNormalization()(output_1) #Normalize and scale activations of the dense layer with BatchNormalization function\n",
        "      final_output= softmax(output_1, axis= 1)\n",
        "\n",
        "      loss_func= cce() # Since it is a multi-class classification problem, categorical crossentropy(cce) is used as the loss function\n",
        "      perf_metrics= AUC() #our performance metric will be area under the curve\n",
        "      optimizer= Adam() #we shall use Adam optimizer as our optimizer\n",
        "      self.final_model= Model(inputs= [ip_layer], outputs= [final_output]) #Build the model with input and output layers\n",
        "      self.final_model.compile(optimizer= optimizer, loss= loss_func, metrics= [perf_metrics]) #Compiling the keras model\n",
        "\n",
        "    def train_lstm_model(self,x, y, valid_split, ep):\n",
        "      self.final_model.fit(x, y, validation_split= valid_split, epochs= ep) #Create the train model\n",
        "\n",
        "\n",
        "    def predict_lstm_model(self,x):\n",
        "      return self.final_model.predict(x)    #Create the predict model\n"
      ],
      "metadata": {
        "id": "1F7_ihHPo10J"
      },
      "execution_count": 28,
      "outputs": []
    },
    {
      "cell_type": "code",
      "source": [
        "steps= trans_matrix_train.shape[1] #Define the number of steps is usually the number of steps in the train data.\n",
        "input_dim= trans_matrix_train.shape[2] #Input dimension. Number of unique words in the train data\n",
        "output_shape= train_target_encoded.shape[1] #Output shape. Usually the same number as the number of classes in the target variable. Here we have 8.\n",
        "final_model= lstm_model_class()\n",
        "final_model.build_lstm_model(input_dimensions= input_dim,\n",
        "                  op_shape= output_shape,\n",
        "                  num_steps= steps,\n",
        "                  dropout_rate= 0.5, # Meaning 1 in 2 inputs will be randomly executed.\n",
        "                  bias_reg= 0.3, # Reduce the bias in the model\n",
        "                  kernel_reg= 0.3) #Reduce the weights excluding bias.\n",
        "\n"
      ],
      "metadata": {
        "id": "k9tZqOtFo4D6"
      },
      "execution_count": 29,
      "outputs": []
    },
    {
      "cell_type": "markdown",
      "source": [
        "Training phase"
      ],
      "metadata": {
        "id": "gHM47EOmo9zW"
      }
    },
    {
      "cell_type": "code",
      "source": [
        "final_model.train_lstm_model(trans_matrix_train, train_target_encoded,0.2, 60)"
      ],
      "metadata": {
        "colab": {
          "base_uri": "https://localhost:8080/"
        },
        "id": "nDbjDeyko7Uu",
        "outputId": "45f2af82-5a14-4ef6-c0cb-8510a061adb8"
      },
      "execution_count": 30,
      "outputs": [
        {
          "output_type": "stream",
          "name": "stdout",
          "text": [
            "Epoch 1/60\n",
            "2/2 [==============================] - 4s 717ms/step - loss: 3.5841 - auc: 0.6364 - val_loss: 3.5509 - val_auc: 0.6562\n",
            "Epoch 2/60\n",
            "2/2 [==============================] - 0s 66ms/step - loss: 3.3807 - auc: 0.7525 - val_loss: 3.5221 - val_auc: 0.6992\n",
            "Epoch 3/60\n",
            "2/2 [==============================] - 0s 70ms/step - loss: 3.2482 - auc: 0.8275 - val_loss: 3.4946 - val_auc: 0.7344\n",
            "Epoch 4/60\n",
            "2/2 [==============================] - 0s 65ms/step - loss: 3.1001 - auc: 0.8959 - val_loss: 3.4672 - val_auc: 0.7646\n",
            "Epoch 5/60\n",
            "2/2 [==============================] - 0s 69ms/step - loss: 2.9971 - auc: 0.9319 - val_loss: 3.4396 - val_auc: 0.7627\n",
            "Epoch 6/60\n",
            "2/2 [==============================] - 0s 56ms/step - loss: 2.9148 - auc: 0.9573 - val_loss: 3.4123 - val_auc: 0.7725\n",
            "Epoch 7/60\n",
            "2/2 [==============================] - 0s 54ms/step - loss: 2.8544 - auc: 0.9707 - val_loss: 3.3856 - val_auc: 0.7930\n",
            "Epoch 8/60\n",
            "2/2 [==============================] - 0s 69ms/step - loss: 2.7899 - auc: 0.9832 - val_loss: 3.3594 - val_auc: 0.7920\n",
            "Epoch 9/60\n",
            "2/2 [==============================] - 0s 66ms/step - loss: 2.7494 - auc: 0.9866 - val_loss: 3.3336 - val_auc: 0.7998\n",
            "Epoch 10/60\n",
            "2/2 [==============================] - 0s 58ms/step - loss: 2.6965 - auc: 0.9928 - val_loss: 3.3081 - val_auc: 0.8086\n",
            "Epoch 11/60\n",
            "2/2 [==============================] - 0s 73ms/step - loss: 2.6578 - auc: 0.9948 - val_loss: 3.2832 - val_auc: 0.8018\n",
            "Epoch 12/60\n",
            "2/2 [==============================] - 0s 53ms/step - loss: 2.6262 - auc: 0.9957 - val_loss: 3.2587 - val_auc: 0.7891\n",
            "Epoch 13/60\n",
            "2/2 [==============================] - 0s 65ms/step - loss: 2.6025 - auc: 0.9962 - val_loss: 3.2348 - val_auc: 0.7881\n",
            "Epoch 14/60\n",
            "2/2 [==============================] - 0s 68ms/step - loss: 2.5459 - auc: 0.9989 - val_loss: 3.2112 - val_auc: 0.7803\n",
            "Epoch 15/60\n",
            "2/2 [==============================] - 0s 58ms/step - loss: 2.5245 - auc: 0.9986 - val_loss: 3.1880 - val_auc: 0.7725\n",
            "Epoch 16/60\n",
            "2/2 [==============================] - 0s 54ms/step - loss: 2.5019 - auc: 0.9984 - val_loss: 3.1651 - val_auc: 0.7725\n",
            "Epoch 17/60\n",
            "2/2 [==============================] - 0s 54ms/step - loss: 2.4576 - auc: 0.9996 - val_loss: 3.1426 - val_auc: 0.7627\n",
            "Epoch 18/60\n",
            "2/2 [==============================] - 0s 65ms/step - loss: 2.4338 - auc: 1.0000 - val_loss: 3.1203 - val_auc: 0.7461\n",
            "Epoch 19/60\n",
            "2/2 [==============================] - 0s 53ms/step - loss: 2.4010 - auc: 1.0000 - val_loss: 3.0983 - val_auc: 0.7461\n",
            "Epoch 20/60\n",
            "2/2 [==============================] - 0s 67ms/step - loss: 2.3911 - auc: 0.9999 - val_loss: 3.0766 - val_auc: 0.7451\n",
            "Epoch 21/60\n",
            "2/2 [==============================] - 0s 66ms/step - loss: 2.3638 - auc: 0.9997 - val_loss: 3.0550 - val_auc: 0.7393\n",
            "Epoch 22/60\n",
            "2/2 [==============================] - 0s 68ms/step - loss: 2.3268 - auc: 1.0000 - val_loss: 3.0338 - val_auc: 0.7314\n",
            "Epoch 23/60\n",
            "2/2 [==============================] - 0s 65ms/step - loss: 2.3001 - auc: 1.0000 - val_loss: 3.0129 - val_auc: 0.7236\n",
            "Epoch 24/60\n",
            "2/2 [==============================] - 0s 64ms/step - loss: 2.2740 - auc: 1.0000 - val_loss: 2.9923 - val_auc: 0.7236\n",
            "Epoch 25/60\n",
            "2/2 [==============================] - 0s 55ms/step - loss: 2.2525 - auc: 1.0000 - val_loss: 2.9721 - val_auc: 0.7158\n",
            "Epoch 26/60\n",
            "2/2 [==============================] - 0s 66ms/step - loss: 2.2405 - auc: 1.0000 - val_loss: 2.9520 - val_auc: 0.7158\n",
            "Epoch 27/60\n",
            "2/2 [==============================] - 0s 66ms/step - loss: 2.2128 - auc: 1.0000 - val_loss: 2.9324 - val_auc: 0.7109\n",
            "Epoch 28/60\n",
            "2/2 [==============================] - 0s 51ms/step - loss: 2.1861 - auc: 1.0000 - val_loss: 2.9129 - val_auc: 0.7148\n",
            "Epoch 29/60\n",
            "2/2 [==============================] - 0s 69ms/step - loss: 2.1827 - auc: 1.0000 - val_loss: 2.8940 - val_auc: 0.7090\n",
            "Epoch 30/60\n",
            "2/2 [==============================] - 0s 73ms/step - loss: 2.1381 - auc: 1.0000 - val_loss: 2.8748 - val_auc: 0.7129\n",
            "Epoch 31/60\n",
            "2/2 [==============================] - 0s 66ms/step - loss: 2.1499 - auc: 1.0000 - val_loss: 2.8556 - val_auc: 0.7080\n",
            "Epoch 32/60\n",
            "2/2 [==============================] - 0s 66ms/step - loss: 2.1012 - auc: 1.0000 - val_loss: 2.8363 - val_auc: 0.7109\n",
            "Epoch 33/60\n",
            "2/2 [==============================] - 0s 66ms/step - loss: 2.0777 - auc: 1.0000 - val_loss: 2.8170 - val_auc: 0.7148\n",
            "Epoch 34/60\n",
            "2/2 [==============================] - 0s 66ms/step - loss: 2.0684 - auc: 1.0000 - val_loss: 2.7976 - val_auc: 0.7246\n",
            "Epoch 35/60\n",
            "2/2 [==============================] - 0s 63ms/step - loss: 2.0353 - auc: 1.0000 - val_loss: 2.7781 - val_auc: 0.7285\n",
            "Epoch 36/60\n",
            "2/2 [==============================] - 0s 54ms/step - loss: 2.0140 - auc: 1.0000 - val_loss: 2.7585 - val_auc: 0.7285\n",
            "Epoch 37/60\n",
            "2/2 [==============================] - 0s 60ms/step - loss: 2.0182 - auc: 1.0000 - val_loss: 2.7390 - val_auc: 0.7324\n",
            "Epoch 38/60\n",
            "2/2 [==============================] - 0s 55ms/step - loss: 1.9771 - auc: 1.0000 - val_loss: 2.7196 - val_auc: 0.7373\n",
            "Epoch 39/60\n",
            "2/2 [==============================] - 0s 59ms/step - loss: 1.9580 - auc: 1.0000 - val_loss: 2.7003 - val_auc: 0.7373\n",
            "Epoch 40/60\n",
            "2/2 [==============================] - 0s 54ms/step - loss: 1.9412 - auc: 1.0000 - val_loss: 2.6812 - val_auc: 0.7412\n",
            "Epoch 41/60\n",
            "2/2 [==============================] - 0s 65ms/step - loss: 1.9208 - auc: 1.0000 - val_loss: 2.6623 - val_auc: 0.7412\n",
            "Epoch 42/60\n",
            "2/2 [==============================] - 0s 55ms/step - loss: 1.9202 - auc: 1.0000 - val_loss: 2.6435 - val_auc: 0.7412\n",
            "Epoch 43/60\n",
            "2/2 [==============================] - 0s 55ms/step - loss: 1.9007 - auc: 1.0000 - val_loss: 2.6246 - val_auc: 0.7451\n",
            "Epoch 44/60\n",
            "2/2 [==============================] - 0s 53ms/step - loss: 1.8811 - auc: 1.0000 - val_loss: 2.6056 - val_auc: 0.7471\n",
            "Epoch 45/60\n",
            "2/2 [==============================] - 0s 67ms/step - loss: 1.8470 - auc: 1.0000 - val_loss: 2.5869 - val_auc: 0.7529\n",
            "Epoch 46/60\n",
            "2/2 [==============================] - 0s 63ms/step - loss: 1.8325 - auc: 1.0000 - val_loss: 2.5683 - val_auc: 0.7627\n",
            "Epoch 47/60\n",
            "2/2 [==============================] - 0s 64ms/step - loss: 1.8241 - auc: 1.0000 - val_loss: 2.5501 - val_auc: 0.7686\n",
            "Epoch 48/60\n",
            "2/2 [==============================] - 0s 60ms/step - loss: 1.8133 - auc: 1.0000 - val_loss: 2.5316 - val_auc: 0.7715\n",
            "Epoch 49/60\n",
            "2/2 [==============================] - 0s 65ms/step - loss: 1.7775 - auc: 1.0000 - val_loss: 2.5130 - val_auc: 0.7734\n",
            "Epoch 50/60\n",
            "2/2 [==============================] - 0s 65ms/step - loss: 1.7779 - auc: 1.0000 - val_loss: 2.4944 - val_auc: 0.7930\n",
            "Epoch 51/60\n",
            "2/2 [==============================] - 0s 47ms/step - loss: 1.7470 - auc: 1.0000 - val_loss: 2.4759 - val_auc: 0.8018\n",
            "Epoch 52/60\n",
            "2/2 [==============================] - 0s 43ms/step - loss: 1.7504 - auc: 1.0000 - val_loss: 2.4581 - val_auc: 0.8115\n",
            "Epoch 53/60\n",
            "2/2 [==============================] - 0s 59ms/step - loss: 1.7192 - auc: 1.0000 - val_loss: 2.4401 - val_auc: 0.8135\n",
            "Epoch 54/60\n",
            "2/2 [==============================] - 0s 55ms/step - loss: 1.6943 - auc: 1.0000 - val_loss: 2.4222 - val_auc: 0.8232\n",
            "Epoch 55/60\n",
            "2/2 [==============================] - 0s 62ms/step - loss: 1.6788 - auc: 1.0000 - val_loss: 2.4042 - val_auc: 0.8311\n",
            "Epoch 56/60\n",
            "2/2 [==============================] - 0s 42ms/step - loss: 1.6641 - auc: 1.0000 - val_loss: 2.3859 - val_auc: 0.8369\n",
            "Epoch 57/60\n",
            "2/2 [==============================] - 0s 56ms/step - loss: 1.6745 - auc: 1.0000 - val_loss: 2.3675 - val_auc: 0.8438\n",
            "Epoch 58/60\n",
            "2/2 [==============================] - 0s 55ms/step - loss: 1.6372 - auc: 1.0000 - val_loss: 2.3490 - val_auc: 0.8457\n",
            "Epoch 59/60\n",
            "2/2 [==============================] - 0s 41ms/step - loss: 1.6171 - auc: 1.0000 - val_loss: 2.3309 - val_auc: 0.8506\n",
            "Epoch 60/60\n",
            "2/2 [==============================] - 0s 55ms/step - loss: 1.6032 - auc: 1.0000 - val_loss: 2.3133 - val_auc: 0.8525\n"
          ]
        }
      ]
    },
    {
      "cell_type": "code",
      "source": [
        "pred_train= encode_target.inverse_transform(final_model.predict_lstm_model(trans_matrix_train)) #Predict on the train matrix and look at the performance\n",
        "print(classification_report(train.target, pred_train)) #Print the classification report"
      ],
      "metadata": {
        "colab": {
          "base_uri": "https://localhost:8080/"
        },
        "id": "fV4TRVOkpEvO",
        "outputId": "ca1a0487-612b-4b6f-8f3c-91daee0e013f"
      },
      "execution_count": 31,
      "outputs": [
        {
          "output_type": "stream",
          "name": "stdout",
          "text": [
            "3/3 [==============================] - 1s 6ms/step\n",
            "              precision    recall  f1-score   support\n",
            "\n",
            "           0       1.00      0.62      0.77        24\n",
            "           1       1.00      0.85      0.92        26\n",
            "           2       0.69      1.00      0.82        29\n",
            "\n",
            "    accuracy                           0.84        79\n",
            "   macro avg       0.90      0.82      0.83        79\n",
            "weighted avg       0.89      0.84      0.84        79\n",
            "\n"
          ]
        }
      ]
    },
    {
      "cell_type": "code",
      "source": [],
      "metadata": {
        "id": "A_Y224QgpKtB"
      },
      "execution_count": null,
      "outputs": []
    },
    {
      "cell_type": "code",
      "source": [
        "pred_test= encode_target.inverse_transform(final_model.predict_lstm_model(trans_matrix_test)) #Predict on the test data\n",
        "print(classification_report(test.target, pred_test)) #Print the classification report"
      ],
      "metadata": {
        "colab": {
          "base_uri": "https://localhost:8080/"
        },
        "id": "4_rht-mApKpp",
        "outputId": "26472e70-b047-4c6c-a893-b78eb4d48c50"
      },
      "execution_count": 32,
      "outputs": [
        {
          "output_type": "stream",
          "name": "stdout",
          "text": [
            "1/1 [==============================] - 0s 28ms/step\n",
            "              precision    recall  f1-score   support\n",
            "\n",
            "           0       1.00      0.22      0.36         9\n",
            "           1       1.00      0.40      0.57         5\n",
            "           2       0.41      1.00      0.58         7\n",
            "\n",
            "    accuracy                           0.52        21\n",
            "   macro avg       0.80      0.54      0.51        21\n",
            "weighted avg       0.80      0.52      0.49        21\n",
            "\n"
          ]
        }
      ]
    },
    {
      "cell_type": "code",
      "source": [],
      "metadata": {
        "id": "nYfsKowKpKnO"
      },
      "execution_count": null,
      "outputs": []
    }
  ]
}